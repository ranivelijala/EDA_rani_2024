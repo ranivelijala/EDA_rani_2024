{
 "cells": [
  {
   "cell_type": "code",
   "execution_count": null,
   "id": "d80476ba-df51-424e-afdd-32bcee91d4a1",
   "metadata": {},
   "outputs": [],
   "source": [
    "#in lambda function\n",
    "#write if-else\n",
    "#<if_out> if else <else_out>"
   ]
  },
  {
   "cell_type": "code",
   "execution_count": null,
   "id": "35597b76-8d50-419c-8802-239e28f156bb",
   "metadata": {},
   "outputs": [],
   "source": [
    "**Dictionary**\n",
    "\n",
    "- We already seen many Datatypes\n",
    "\n",
    "- String\n",
    "\n",
    "- list\n",
    "\n",
    "- Set\n",
    "\n",
    "- Dictionary\n",
    "\n",
    "- int float bool complex\n",
    "\n",
    "- numpy pandas range\n",
    "\n",
    "- array\n",
    "\n",
    "- bytes\n",
    "\n",
    "- eval is not a datatype\n",
    "\n"
   ]
  },
  {
   "cell_type": "code",
   "execution_count": null,
   "id": "96b27dd9-f9b5-45a4-b8f7-70afd89e98ea",
   "metadata": {},
   "outputs": [],
   "source": [
    "string=''\n",
    "list=[]\n",
    "tuple=()\n",
    "set={}\n",
    "dictionary={key:value}"
   ]
  },
  {
   "cell_type": "markdown",
   "id": "03520977-75ac-4e23-8bc3-3aa72f282551",
   "metadata": {},
   "source": [
    "**zip**\n",
    "- zip is used to combining"
   ]
  },
  {
   "cell_type": "code",
   "execution_count": 3,
   "id": "f240fb41-5c86-4cea-8d70-38234fd4ba3c",
   "metadata": {},
   "outputs": [
    {
     "name": "stdout",
     "output_type": "stream",
     "text": [
      "ramesh 20\n",
      "suresh 25\n",
      "sathish 30\n"
     ]
    }
   ],
   "source": [
    "names=['ramesh','suresh','sathish']\n",
    "age=[20,25,30]\n",
    "#op=ramesh 20 suresh 25 sathish 30\n",
    "\n",
    "for i,j in zip(names,age):\n",
    "    print(i,j)"
   ]
  },
  {
   "cell_type": "code",
   "execution_count": 5,
   "id": "349ac6d9-77e4-4941-862f-27e8259959eb",
   "metadata": {},
   "outputs": [
    {
     "data": {
      "text/plain": [
       "[('ramesh', 20), ('suresh', 25), ('sathish', 30)]"
      ]
     },
     "execution_count": 5,
     "metadata": {},
     "output_type": "execute_result"
    }
   ],
   "source": [
    "list(zip(names,age))"
   ]
  },
  {
   "cell_type": "code",
   "execution_count": null,
   "id": "cea9008c-1db3-4e95-b243-e355365fcad4",
   "metadata": {},
   "outputs": [],
   "source": [
    "dict1={<key>:<value>}\n",
    "names=['ramesh','suresh','sathish']\n",
    "age=[20,25,30]\n",
    "'ramesh' is the dictionary ====20 its related value\n",
    "dict1={'ramesh':20,'suresh':25,'sathish':30}"
   ]
  },
  {
   "cell_type": "code",
   "execution_count": 6,
   "id": "e27f0365-e9de-4827-9df6-75f859abdf12",
   "metadata": {},
   "outputs": [
    {
     "data": {
      "text/plain": [
       "dict"
      ]
     },
     "execution_count": 6,
     "metadata": {},
     "output_type": "execute_result"
    }
   ],
   "source": [
    "dict1={'ramesh':20,'suresh':25,'sathish':30}\n",
    "type(dict1)"
   ]
  },
  {
   "cell_type": "code",
   "execution_count": null,
   "id": "74079970-8792-4565-b0bb-323cf5e30745",
   "metadata": {},
   "outputs": [],
   "source": [
    "#if the list are of different length?\n",
    "#if both lists are different length zip will not work"
   ]
  },
  {
   "cell_type": "code",
   "execution_count": null,
   "id": "3f0f16a9-d46a-4621-8545-306f0a3b5d15",
   "metadata": {},
   "outputs": [],
   "source": [
    "- initialization\n",
    "\n",
    "- type\n",
    "\n",
    "- max\n",
    "\n",
    "- min\n",
    "\n",
    "- len\n",
    "\n",
    "- reversed\n",
    "\n",
    "- sorted\n",
    "\n",
    "- in\n",
    "\n",
    "- index\n",
    "\n",
    "- concate\n",
    "\n",
    "- slicing\n",
    "\n",
    "- methods\n"
   ]
  },
  {
   "cell_type": "markdown",
   "id": "2ea45368-1a2b-4bfc-8dd2-44a49dd519f3",
   "metadata": {},
   "source": [
    "**Create all type of dictionaries**"
   ]
  },
  {
   "cell_type": "code",
   "execution_count": null,
   "id": "f8e1e683-d220-4c40-b3b5-c0ff561aa664",
   "metadata": {},
   "outputs": [],
   "source": [
    "dict1={'ramesh':20,'suresh':25,'sathish':30}\n",
    "dict2={20:'ramesh',:25:'suresh',30:'sathish'}\n",
    "dict3={['ramesh','suresh','sathish']:[20,25,30]}\n",
    "d4={'ramesh':'20','suresh':'25','sathish':'30'}\n",
    "d5={20:25}"
   ]
  },
  {
   "cell_type": "code",
   "execution_count": 1,
   "id": "9579f1e6-60a6-49c1-ba27-6491d813b841",
   "metadata": {},
   "outputs": [
    {
     "data": {
      "text/plain": [
       "{'fruites': ['apple', 'cherry']}"
      ]
     },
     "execution_count": 1,
     "metadata": {},
     "output_type": "execute_result"
    }
   ],
   "source": [
    "d6={'fruites':['apple','cherry']}\n",
    "d6"
   ]
  },
  {
   "cell_type": "code",
   "execution_count": 2,
   "id": "f08bba56-441e-4230-ae59-c547c899d152",
   "metadata": {},
   "outputs": [
    {
     "ename": "TypeError",
     "evalue": "unhashable type: 'list'",
     "output_type": "error",
     "traceback": [
      "\u001b[1;31m---------------------------------------------------------------------------\u001b[0m",
      "\u001b[1;31mTypeError\u001b[0m                                 Traceback (most recent call last)",
      "Cell \u001b[1;32mIn[2], line 1\u001b[0m\n\u001b[1;32m----> 1\u001b[0m d7\u001b[38;5;241m=\u001b[39m{[\u001b[38;5;124m'\u001b[39m\u001b[38;5;124mapple\u001b[39m\u001b[38;5;124m'\u001b[39m,\u001b[38;5;124m'\u001b[39m\u001b[38;5;124mcherry\u001b[39m\u001b[38;5;124m'\u001b[39m]:\u001b[38;5;124m'\u001b[39m\u001b[38;5;124mfruites\u001b[39m\u001b[38;5;124m'\u001b[39m}\n\u001b[0;32m      2\u001b[0m d7\n",
      "\u001b[1;31mTypeError\u001b[0m: unhashable type: 'list'"
     ]
    }
   ],
   "source": [
    "d7={['apple','cherry']:'fruites'}\n",
    "d7"
   ]
  },
  {
   "cell_type": "code",
   "execution_count": 3,
   "id": "cba17044-52e6-4c76-9e72-f914a66778ea",
   "metadata": {},
   "outputs": [
    {
     "data": {
      "text/plain": [
       "{('apple', 'cherry'): 'fruites'}"
      ]
     },
     "execution_count": 3,
     "metadata": {},
     "output_type": "execute_result"
    }
   ],
   "source": [
    "d7={('apple','cherry'):'fruites'}\n",
    "d7"
   ]
  },
  {
   "cell_type": "code",
   "execution_count": 7,
   "id": "118e868a-d100-46a5-9d1a-f866f142a7bb",
   "metadata": {},
   "outputs": [
    {
     "data": {
      "text/plain": [
       "{'ajay': 90}"
      ]
     },
     "execution_count": 7,
     "metadata": {},
     "output_type": "execute_result"
    }
   ],
   "source": [
    "d8={'ajay':80,'ajay':90}\n",
    "d8"
   ]
  },
  {
   "cell_type": "code",
   "execution_count": 9,
   "id": "f00f5325-5d8e-400e-9866-cea02dfbfcae",
   "metadata": {},
   "outputs": [
    {
     "data": {
      "text/plain": [
       "{25: 'ajay', 30: 'ajay'}"
      ]
     },
     "execution_count": 9,
     "metadata": {},
     "output_type": "execute_result"
    }
   ],
   "source": [
    "d9={25:'ajay',30:'ajay'}\n",
    "d9"
   ]
  },
  {
   "cell_type": "code",
   "execution_count": 1,
   "id": "8cf45297-420c-4d59-8ca8-16e7401f1dee",
   "metadata": {},
   "outputs": [
    {
     "data": {
      "text/plain": [
       "{'fruits': {'mango': 25}}"
      ]
     },
     "execution_count": 1,
     "metadata": {},
     "output_type": "execute_result"
    }
   ],
   "source": [
    "d10={'fruits':{'mango':25}}\n",
    "d10"
   ]
  },
  {
   "cell_type": "markdown",
   "id": "3e75e952-ee16-4eec-9389-7144e28986b5",
   "metadata": {},
   "source": [
    "**keys are important**\n",
    "\n",
    "- keys have only latest value\n",
    "\n",
    "- no duplicate keys\n",
    "\n",
    "- keys should be only one\n",
    "\n",
    "- values can be duplicate\n",
    "\n",
    "- which means different keys can have same value\n",
    "\n",
    "- list can not be a key,because list is a mutable\n",
    "\n",
    "- tuple can be a key, because tuple are immutable"
   ]
  },
  {
   "cell_type": "code",
   "execution_count": 2,
   "id": "37d1449f-2625-487b-8f43-997415ef3c55",
   "metadata": {},
   "outputs": [
    {
     "ename": "SyntaxError",
     "evalue": "invalid syntax (1520973249.py, line 2)",
     "output_type": "error",
     "traceback": [
      "\u001b[1;36m  Cell \u001b[1;32mIn[2], line 2\u001b[1;36m\u001b[0m\n\u001b[1;33m    dict2={20:'ramesh',:25:'suresh',30:'sathish'}\u001b[0m\n\u001b[1;37m                       ^\u001b[0m\n\u001b[1;31mSyntaxError\u001b[0m\u001b[1;31m:\u001b[0m invalid syntax\n"
     ]
    }
   ],
   "source": [
    "dict1={'ramesh':20,'suresh':25,'sathish':30}\n",
    "dict2={20:'ramesh',25:'suresh',30:'sathish'}\n",
    "d4={'ramesh':'20','suresh':'25','sathish':'30'}\n",
    "d5={'ramesh':20,'suresh':'30','sathish':15}\n",
    "d6={20:'ramesh','25':'suresh',30:'sathish'}\n",
    "dict7={'ramesh':20,'suresh':20,'sathish':20}\n",
    "dict8={20:'ramesh',20:'suresh',20:'sathish'}\n",
    "\n",
    "max(dict1)"
   ]
  },
  {
   "cell_type": "code",
   "execution_count": 3,
   "id": "1bb778ed-730d-4cb6-92e6-f9746f39c0cf",
   "metadata": {},
   "outputs": [
    {
     "data": {
      "text/plain": [
       "'suresh'"
      ]
     },
     "execution_count": 3,
     "metadata": {},
     "output_type": "execute_result"
    }
   ],
   "source": [
    "dict1={'ramesh':20,'suresh':25,'sathish':30}\n",
    "max(dict1)\n",
    "\n",
    "#operations apply on keys\n",
    "#keys are important"
   ]
  },
  {
   "cell_type": "code",
   "execution_count": 4,
   "id": "29e46b60-9a5f-4861-a5d4-b52a7d7d777b",
   "metadata": {},
   "outputs": [
    {
     "data": {
      "text/plain": [
       "30"
      ]
     },
     "execution_count": 4,
     "metadata": {},
     "output_type": "execute_result"
    }
   ],
   "source": [
    "dict2={20:'ramesh',25:'suresh',30:'sathish'}\n",
    "max(dict2)"
   ]
  },
  {
   "cell_type": "code",
   "execution_count": 5,
   "id": "f14869b1-d8f5-41ee-bfdb-0a4e927124eb",
   "metadata": {},
   "outputs": [
    {
     "ename": "TypeError",
     "evalue": "unhashable type: 'list'",
     "output_type": "error",
     "traceback": [
      "\u001b[1;31m---------------------------------------------------------------------------\u001b[0m",
      "\u001b[1;31mTypeError\u001b[0m                                 Traceback (most recent call last)",
      "Cell \u001b[1;32mIn[5], line 1\u001b[0m\n\u001b[1;32m----> 1\u001b[0m dict3\u001b[38;5;241m=\u001b[39m{[\u001b[38;5;124m'\u001b[39m\u001b[38;5;124mramesh\u001b[39m\u001b[38;5;124m'\u001b[39m,\u001b[38;5;124m'\u001b[39m\u001b[38;5;124msuresh\u001b[39m\u001b[38;5;124m'\u001b[39m,\u001b[38;5;124m'\u001b[39m\u001b[38;5;124msathish\u001b[39m\u001b[38;5;124m'\u001b[39m]:[\u001b[38;5;241m20\u001b[39m,\u001b[38;5;241m25\u001b[39m,\u001b[38;5;241m30\u001b[39m]}\n\u001b[0;32m      2\u001b[0m dict3\n",
      "\u001b[1;31mTypeError\u001b[0m: unhashable type: 'list'"
     ]
    }
   ],
   "source": [
    "dict3={['ramesh','suresh','sathish']:[20,25,30]}\n",
    "dict3"
   ]
  },
  {
   "cell_type": "code",
   "execution_count": 6,
   "id": "557460ca-0877-488a-b56f-e3f8bef8d728",
   "metadata": {},
   "outputs": [
    {
     "data": {
      "text/plain": [
       "'suresh'"
      ]
     },
     "execution_count": 6,
     "metadata": {},
     "output_type": "execute_result"
    }
   ],
   "source": [
    "d4={'ramesh':'20','suresh':'25','sathish':'30'}\n",
    "max(d4)"
   ]
  },
  {
   "cell_type": "code",
   "execution_count": 7,
   "id": "1ecc44c8-6b7b-418a-84ae-d497ef7beee3",
   "metadata": {},
   "outputs": [
    {
     "data": {
      "text/plain": [
       "'ramesh'"
      ]
     },
     "execution_count": 7,
     "metadata": {},
     "output_type": "execute_result"
    }
   ],
   "source": [
    "dict1={'ramesh':20,'suresh':25,'sathish':30}\n",
    "min(dict1)"
   ]
  },
  {
   "cell_type": "code",
   "execution_count": 8,
   "id": "15d2c788-dd93-433e-95c9-1bb7028d9f21",
   "metadata": {},
   "outputs": [
    {
     "data": {
      "text/plain": [
       "20"
      ]
     },
     "execution_count": 8,
     "metadata": {},
     "output_type": "execute_result"
    }
   ],
   "source": [
    "dict2={20:'ramesh',25:'suresh',30:'sathish'}\n",
    "min(dict2)"
   ]
  },
  {
   "cell_type": "code",
   "execution_count": 9,
   "id": "4b3315eb-829a-4bb8-bcca-c197a0469bef",
   "metadata": {},
   "outputs": [
    {
     "data": {
      "text/plain": [
       "'ramesh'"
      ]
     },
     "execution_count": 9,
     "metadata": {},
     "output_type": "execute_result"
    }
   ],
   "source": [
    "d4={'ramesh':'20','suresh':'25','sathish':'30'}\n",
    "min(d4)"
   ]
  },
  {
   "cell_type": "code",
   "execution_count": 10,
   "id": "b85469f1-8e0e-4385-9959-68192c912848",
   "metadata": {},
   "outputs": [
    {
     "data": {
      "text/plain": [
       "'ramesh'"
      ]
     },
     "execution_count": 10,
     "metadata": {},
     "output_type": "execute_result"
    }
   ],
   "source": [
    "d5={'ramesh':20,'suresh':'30','sathish':15}\n",
    "min(d5)"
   ]
  },
  {
   "cell_type": "code",
   "execution_count": 11,
   "id": "6961d253-fac0-4920-989b-9a9887c62bea",
   "metadata": {},
   "outputs": [
    {
     "ename": "TypeError",
     "evalue": "'<' not supported between instances of 'str' and 'int'",
     "output_type": "error",
     "traceback": [
      "\u001b[1;31m---------------------------------------------------------------------------\u001b[0m",
      "\u001b[1;31mTypeError\u001b[0m                                 Traceback (most recent call last)",
      "Cell \u001b[1;32mIn[11], line 2\u001b[0m\n\u001b[0;32m      1\u001b[0m d6\u001b[38;5;241m=\u001b[39m{\u001b[38;5;241m20\u001b[39m:\u001b[38;5;124m'\u001b[39m\u001b[38;5;124mramesh\u001b[39m\u001b[38;5;124m'\u001b[39m,\u001b[38;5;124m'\u001b[39m\u001b[38;5;124m25\u001b[39m\u001b[38;5;124m'\u001b[39m:\u001b[38;5;124m'\u001b[39m\u001b[38;5;124msuresh\u001b[39m\u001b[38;5;124m'\u001b[39m,\u001b[38;5;241m30\u001b[39m:\u001b[38;5;124m'\u001b[39m\u001b[38;5;124msathish\u001b[39m\u001b[38;5;124m'\u001b[39m}\n\u001b[1;32m----> 2\u001b[0m \u001b[38;5;28mmin\u001b[39m(d6)\n",
      "\u001b[1;31mTypeError\u001b[0m: '<' not supported between instances of 'str' and 'int'"
     ]
    }
   ],
   "source": [
    "d6={20:'ramesh','25':'suresh',30:'sathish'}\n",
    "min(d6)"
   ]
  },
  {
   "cell_type": "code",
   "execution_count": 12,
   "id": "8cddc09b-3351-4e01-b727-85abe669dd3f",
   "metadata": {},
   "outputs": [
    {
     "data": {
      "text/plain": [
       "'ramesh'"
      ]
     },
     "execution_count": 12,
     "metadata": {},
     "output_type": "execute_result"
    }
   ],
   "source": [
    "dict7={'ramesh':20,'suresh':20,'sathish':20}\n",
    "min(dict7)"
   ]
  },
  {
   "cell_type": "code",
   "execution_count": 17,
   "id": "06a8ff7b-aaf4-47cd-96bb-06a9eacba532",
   "metadata": {},
   "outputs": [
    {
     "data": {
      "text/plain": [
       "<dict_reversekeyiterator at 0x23060061a80>"
      ]
     },
     "execution_count": 17,
     "metadata": {},
     "output_type": "execute_result"
    }
   ],
   "source": [
    "dict7={'ramesh':20,'suresh':20,'sathish':20}\n",
    "reversed(dict7)"
   ]
  },
  {
   "cell_type": "code",
   "execution_count": 18,
   "id": "0b519173-e456-4387-90ea-cb68e9de2e28",
   "metadata": {},
   "outputs": [
    {
     "data": {
      "text/plain": [
       "<dict_reversekeyiterator at 0x23060e32930>"
      ]
     },
     "execution_count": 18,
     "metadata": {},
     "output_type": "execute_result"
    }
   ],
   "source": [
    "d4={'ramesh':'20','suresh':'25','sathish':'30'}\n",
    "reversed(d4)"
   ]
  },
  {
   "cell_type": "code",
   "execution_count": 20,
   "id": "da6f7f9c-d37a-4bf9-b458-9a325b86900d",
   "metadata": {},
   "outputs": [
    {
     "data": {
      "text/plain": [
       "['sathish', 'suresh', 'ramesh']"
      ]
     },
     "execution_count": 20,
     "metadata": {},
     "output_type": "execute_result"
    }
   ],
   "source": [
    "dict1={'ramesh':20,'suresh':25,'sathish':30}\n",
    "list(reversed(dict1))"
   ]
  },
  {
   "cell_type": "markdown",
   "id": "dfc169c5-1fe1-4f98-a18b-c97e7db06126",
   "metadata": {},
   "source": [
    "**reversed**\n",
    "\n",
    "- you might have think dictionary will reverse\n",
    "\n",
    "- when you apply reversed,then you got to know\n",
    "\n",
    "- only keys will come in reverse"
   ]
  },
  {
   "cell_type": "code",
   "execution_count": 21,
   "id": "a00f9def-639f-4c54-84ab-867f88bd2810",
   "metadata": {},
   "outputs": [
    {
     "data": {
      "text/plain": [
       "['ramesh', 'sathish', 'suresh']"
      ]
     },
     "execution_count": 21,
     "metadata": {},
     "output_type": "execute_result"
    }
   ],
   "source": [
    "dict1={'ramesh':20,'suresh':25,'sathish':30}\n",
    "sorted(dict1)"
   ]
  },
  {
   "cell_type": "code",
   "execution_count": 22,
   "id": "7b1c146b-ced1-4496-bb2d-8eaab7414fac",
   "metadata": {},
   "outputs": [
    {
     "data": {
      "text/plain": [
       "[20]"
      ]
     },
     "execution_count": 22,
     "metadata": {},
     "output_type": "execute_result"
    }
   ],
   "source": [
    "dict8={20:'ramesh',20:'suresh',20:'sathish'}\n",
    "sorted(dict8)"
   ]
  },
  {
   "cell_type": "code",
   "execution_count": 23,
   "id": "ffb75a78-22fd-43d3-a85a-c9cb006f283c",
   "metadata": {},
   "outputs": [
    {
     "data": {
      "text/plain": [
       "['ramesh', 'sathish', 'suresh']"
      ]
     },
     "execution_count": 23,
     "metadata": {},
     "output_type": "execute_result"
    }
   ],
   "source": [
    "dict1={'ramesh':20,'suresh':25,'sathish':30}\n",
    "sorted(dict1)"
   ]
  },
  {
   "cell_type": "code",
   "execution_count": 24,
   "id": "be29871b-cfa9-4033-80ed-8cf0adeb46be",
   "metadata": {},
   "outputs": [
    {
     "data": {
      "text/plain": [
       "20"
      ]
     },
     "execution_count": 24,
     "metadata": {},
     "output_type": "execute_result"
    }
   ],
   "source": [
    "dict1={'ramesh':20,'suresh':25,'sathish':30}\n",
    "#dictionary is key:value pair\n",
    "#we can not use index number directly\n",
    "#whenever yo want to call a value,we will use key\n",
    "dict1=['ramesh']\n",
    "dict1=['suresh']\n",
    "dict1=['sathish']\n",
    "\n",
    "dict1[i]\n"
   ]
  },
  {
   "cell_type": "code",
   "execution_count": 26,
   "id": "463479b2-cc59-4b31-8c5a-c7fd60761803",
   "metadata": {},
   "outputs": [
    {
     "name": "stdout",
     "output_type": "stream",
     "text": [
      "ramesh has age 20\n",
      "suresh has age 25\n",
      "sathish has age 30\n"
     ]
    }
   ],
   "source": [
    "for i in dict1:\n",
    "    print(f\"{i} has age {dict1[i]}\")"
   ]
  },
  {
   "cell_type": "code",
   "execution_count": null,
   "id": "f65367e7-90b1-40b8-9fdd-4b120e9beadc",
   "metadata": {},
   "outputs": [],
   "source": [
    "names=['manish','shubam','nagesh']\n",
    "age=[20,25,30]\n",
    "for i,j in zip(names,age):\n",
    "    print(f\"{i} has age {j}\")"
   ]
  },
  {
   "cell_type": "markdown",
   "id": "3d67154a-3ac3-440c-aa11-7b1a092a2345",
   "metadata": {},
   "source": [
    "**dictionary to list**"
   ]
  },
  {
   "cell_type": "code",
   "execution_count": 28,
   "id": "4a1b48da-8aca-49fa-b778-50f1dc915166",
   "metadata": {},
   "outputs": [
    {
     "data": {
      "text/plain": [
       "[20, 25, 30]"
      ]
     },
     "execution_count": 28,
     "metadata": {},
     "output_type": "execute_result"
    }
   ],
   "source": [
    "dict1={'ramesh':20,'suresh':25,'sathish':30}\n",
    "keys,values=[],[]\n",
    "for i in dict1:\n",
    "    keys.append(i)\n",
    "    values.append(dict1[i])\n",
    "values"
   ]
  },
  {
   "cell_type": "code",
   "execution_count": null,
   "id": "d23d25a3-1136-4b9e-9020-69993dead7a4",
   "metadata": {},
   "outputs": [],
   "source": [
    "keys=[i for i in dict1]\n",
    "values=[d"
   ]
  },
  {
   "cell_type": "code",
   "execution_count": null,
   "id": "0a26a9ea-9e82-4b4a-ba44-9134560b3c4a",
   "metadata": {},
   "outputs": [],
   "source": [
    "**how to convert dictionary**"
   ]
  },
  {
   "cell_type": "code",
   "execution_count": null,
   "id": "a28527fb-0e65-4300-a560-09e69fff233f",
   "metadata": {},
   "outputs": [],
   "source": [
    "l=[]\n",
    "l.append(20)\n",
    "l"
   ]
  },
  {
   "cell_type": "code",
   "execution_count": null,
   "id": "790f71fc-30b0-4063-b964-2e74859787a8",
   "metadata": {},
   "outputs": [],
   "source": [
    "**empty string**"
   ]
  },
  {
   "cell_type": "code",
   "execution_count": null,
   "id": "42fb139a-60bb-46d0-a6d0-02d348b0021f",
   "metadata": {},
   "outputs": [],
   "source": [
    "s='s'\n"
   ]
  },
  {
   "cell_type": "code",
   "execution_count": null,
   "id": "fd9a9155-a960-487a-91f7-b3a424204829",
   "metadata": {},
   "outputs": [],
   "source": [
    "**empty dictionary**"
   ]
  },
  {
   "cell_type": "code",
   "execution_count": null,
   "id": "cbe6187b-af15-45f2-ae24-48fd9c359e1c",
   "metadata": {},
   "outputs": [],
   "source": [
    "d={}\n",
    "d['rani']=20\n",
    "d[\n",
    "\n"
   ]
  },
  {
   "cell_type": "code",
   "execution_count": null,
   "id": "91100814-a93f-47a4-812f-ed068281f7bb",
   "metadata": {},
   "outputs": [],
   "source": [
    "zip(d[names]"
   ]
  },
  {
   "cell_type": "code",
   "execution_count": null,
   "id": "73ee50dc-346d-44e2-9229-b938df96e1d6",
   "metadata": {},
   "outputs": [],
   "source": [
    "names"
   ]
  },
  {
   "cell_type": "code",
   "execution_count": null,
   "id": "a6334baa-377f-46a0-ad7f-fa07cd7fa25b",
   "metadata": {},
   "outputs": [],
   "source": []
  },
  {
   "cell_type": "code",
   "execution_count": null,
   "id": "59afb909-115b-4aa1-a62a-f2ed2cc3904f",
   "metadata": {},
   "outputs": [],
   "source": [
    "**indexing**"
   ]
  },
  {
   "cell_type": "code",
   "execution_count": null,
   "id": "ff813f80-a514-422c-87a4-4f92e493ccd0",
   "metadata": {},
   "outputs": [],
   "source": [
    "**string to list**\n"
   ]
  },
  {
   "cell_type": "code",
   "execution_count": 30,
   "id": "c6caeaba-bf71-438c-acb9-d0ce464bcaf1",
   "metadata": {},
   "outputs": [
    {
     "data": {
      "text/plain": [
       "['how', 'how', 'are', 'are', 'you']"
      ]
     },
     "execution_count": 30,
     "metadata": {},
     "output_type": "execute_result"
    }
   ],
   "source": [
    "s='how how  are are you'\n",
    "s.split()"
   ]
  },
  {
   "cell_type": "markdown",
   "id": "9f2abaa5-3541-4704-86aa-d3dc52d8cadd",
   "metadata": {},
   "source": [
    "**word frequency**"
   ]
  },
  {
   "cell_type": "code",
   "execution_count": 34,
   "id": "f7cb4f20-ce96-4e3c-a6e0-8a072339d0d2",
   "metadata": {},
   "outputs": [
    {
     "name": "stdout",
     "output_type": "stream",
     "text": [
      "0\n",
      "0\n",
      "0\n",
      "0\n",
      "0\n",
      "0\n",
      "0\n",
      "0\n",
      "0\n",
      "0\n",
      "0\n",
      "0\n",
      "0\n",
      "0\n",
      "0\n",
      "0\n",
      "0\n",
      "0\n",
      "0\n",
      "0\n",
      "0\n",
      "0\n",
      "0\n",
      "0\n",
      "0\n",
      "0\n",
      "0\n",
      "0\n",
      "0\n"
     ]
    }
   ],
   "source": [
    "s='hello hai hai how how are you'\n",
    "#o/p:{'hello':1,'hai':2,'how':2,'are':1,'you':2}\n",
    "s.split()\n",
    "for i in s:\n",
    "    print(i.count(s))"
   ]
  },
  {
   "cell_type": "code",
   "execution_count": null,
   "id": "75802e7d-db95-4ccd-9f98-8a30350a669c",
   "metadata": {},
   "outputs": [],
   "source": [
    "**mutable-immutable**\n",
    "\n",
    "- change the elements using index\n",
    "\n",
    "- but in dictionary there is no index\n",
    "\n",
    "- in dictionary wewill change the value based on key only\n",
    "\n",
    "- "
   ]
  },
  {
   "cell_type": "code",
   "execution_count": 36,
   "id": "80b9eebc-53e1-4359-a0c1-7e6223d9ef04",
   "metadata": {},
   "outputs": [
    {
     "data": {
      "text/plain": [
       "{'apple': ['kashmir']}"
      ]
     },
     "execution_count": 36,
     "metadata": {},
     "output_type": "execute_result"
    }
   ],
   "source": [
    "d={'frites':[{'apple':['kashmir']}]}\n",
    "d['frites'][0]['a"
   ]
  },
  {
   "cell_type": "code",
   "execution_count": 40,
   "id": "70dbf1a2-6f9d-4b04-bb01-41c3867c0ff3",
   "metadata": {},
   "outputs": [
    {
     "name": "stderr",
     "output_type": "stream",
     "text": [
      "<>:2: SyntaxWarning: list indices must be integers or slices, not str; perhaps you missed a comma?\n",
      "<>:2: SyntaxWarning: list indices must be integers or slices, not str; perhaps you missed a comma?\n",
      "C:\\Users\\balas\\AppData\\Local\\Temp\\ipykernel_11528\\4135796044.py:2: SyntaxWarning: list indices must be integers or slices, not str; perhaps you missed a comma?\n",
      "  d['frwites']:[0]['apple']['kashmir'][0]\n",
      "C:\\Users\\balas\\AppData\\Local\\Temp\\ipykernel_11528\\4135796044.py:2: SyntaxWarning: list indices must be integers or slices, not str; perhaps you missed a comma?\n",
      "  d['frwites']:[0]['apple']['kashmir'][0]\n",
      "C:\\Users\\balas\\AppData\\Local\\Temp\\ipykernel_11528\\4135796044.py:2: SyntaxWarning: list indices must be integers or slices, not str; perhaps you missed a comma?\n",
      "  d['frwites']:[0]['apple']['kashmir'][0]\n",
      "C:\\Users\\balas\\AppData\\Local\\Temp\\ipykernel_11528\\4135796044.py:2: SyntaxWarning: list indices must be integers or slices, not str; perhaps you missed a comma?\n",
      "  d['frwites']:[0]['apple']['kashmir'][0]\n",
      "C:\\Users\\balas\\AppData\\Local\\Temp\\ipykernel_11528\\4135796044.py:2: SyntaxWarning: list indices must be integers or slices, not str; perhaps you missed a comma?\n",
      "  d['frwites']:[0]['apple']['kashmir'][0]\n",
      "C:\\Users\\balas\\AppData\\Local\\Temp\\ipykernel_11528\\4135796044.py:2: SyntaxWarning: list indices must be integers or slices, not str; perhaps you missed a comma?\n",
      "  d['frwites']:[0]['apple']['kashmir'][0]\n",
      "C:\\Users\\balas\\AppData\\Local\\Temp\\ipykernel_11528\\4135796044.py:2: SyntaxWarning: list indices must be integers or slices, not str; perhaps you missed a comma?\n",
      "  d['frwites']:[0]['apple']['kashmir'][0]\n",
      "C:\\Users\\balas\\AppData\\Local\\Temp\\ipykernel_11528\\4135796044.py:2: SyntaxWarning: list indices must be integers or slices, not str; perhaps you missed a comma?\n",
      "  d['frwites']:[0]['apple']['kashmir'][0]\n",
      "C:\\Users\\balas\\AppData\\Local\\Temp\\ipykernel_11528\\4135796044.py:2: SyntaxWarning: list indices must be integers or slices, not str; perhaps you missed a comma?\n",
      "  d['frwites']:[0]['apple']['kashmir'][0]\n"
     ]
    },
    {
     "ename": "TypeError",
     "evalue": "list indices must be integers or slices, not str",
     "output_type": "error",
     "traceback": [
      "\u001b[1;31m---------------------------------------------------------------------------\u001b[0m",
      "\u001b[1;31mTypeError\u001b[0m                                 Traceback (most recent call last)",
      "Cell \u001b[1;32mIn[40], line 2\u001b[0m\n\u001b[0;32m      1\u001b[0m d\u001b[38;5;241m=\u001b[39m{\u001b[38;5;124m'\u001b[39m\u001b[38;5;124mfrwites\u001b[39m\u001b[38;5;124m'\u001b[39m:[{\u001b[38;5;124m'\u001b[39m\u001b[38;5;124mapple\u001b[39m\u001b[38;5;124m'\u001b[39m:{\u001b[38;5;124m'\u001b[39m\u001b[38;5;124mkashmir\u001b[39m\u001b[38;5;124m'\u001b[39m:[\u001b[38;5;124m'\u001b[39m\u001b[38;5;124mindia\u001b[39m\u001b[38;5;124m'\u001b[39m]}}]}\n\u001b[1;32m----> 2\u001b[0m d[\u001b[38;5;124m'\u001b[39m\u001b[38;5;124mfrwites\u001b[39m\u001b[38;5;124m'\u001b[39m]:[\u001b[38;5;241m0\u001b[39m][\u001b[38;5;124m'\u001b[39m\u001b[38;5;124mapple\u001b[39m\u001b[38;5;124m'\u001b[39m][\u001b[38;5;124m'\u001b[39m\u001b[38;5;124mkashmir\u001b[39m\u001b[38;5;124m'\u001b[39m][\u001b[38;5;241m0\u001b[39m]\n",
      "\u001b[1;31mTypeError\u001b[0m: list indices must be integers or slices, not str"
     ]
    }
   ],
   "source": [
    "d={'frwites':[{'apple':{'kashmir':['india']}}]}\n",
    "d['frwites']:[0]['apple']['kashmir'][0]"
   ]
  },
  {
   "cell_type": "code",
   "execution_count": 44,
   "id": "e918b6c1-f48e-4498-8ad3-31b878d7cef1",
   "metadata": {},
   "outputs": [
    {
     "ename": "SyntaxError",
     "evalue": "invalid syntax (468073115.py, line 1)",
     "output_type": "error",
     "traceback": [
      "\u001b[1;36m  Cell \u001b[1;32mIn[44], line 1\u001b[1;36m\u001b[0m\n\u001b[1;33m    d{'fruites':{'benganapalli':{'mango':{'nagpur':{'shivaji':{'shambaji'}}}}}}\u001b[0m\n\u001b[1;37m     ^\u001b[0m\n\u001b[1;31mSyntaxError\u001b[0m\u001b[1;31m:\u001b[0m invalid syntax\n"
     ]
    }
   ],
   "source": [
    "d{'fruites':{'benganapalli':{'mango':{'nagpur':{'shivaji':{'shambaji'}}}}}}\n",
    "d{'fruites'}{0}{'mango'}['nagpur']['shivaji'][0]"
   ]
  },
  {
   "cell_type": "code",
   "execution_count": 1,
   "id": "cc5b756e-7177-4b07-a43c-bb43382ad4e7",
   "metadata": {},
   "outputs": [
    {
     "data": {
      "text/plain": [
       "25"
      ]
     },
     "execution_count": 1,
     "metadata": {},
     "output_type": "execute_result"
    }
   ],
   "source": [
    "d1={'manish':25,'shubam':20,'govindh':15}\n",
    "#dictionary is a key:value pair\n",
    "#we can not use index number directly\n",
    "#whenever you want to call a value, we will use key\n",
    "d1['manish']\n",
    "d1['shubam']\n",
    "d1['govindh']\n",
    "\n",
    "d1[i]"
   ]
  },
  {
   "cell_type": "code",
   "execution_count": 4,
   "id": "3c14002b-4128-43c5-8983-e121863111ed",
   "metadata": {},
   "outputs": [
    {
     "name": "stdout",
     "output_type": "stream",
     "text": [
      "manish age is 25\n",
      "shubam age is 20\n",
      "govindh age is 15\n"
     ]
    }
   ],
   "source": [
    "for i in d1:\n",
    "    print(f\"{i} age is {d1[i]}\")"
   ]
  },
  {
   "cell_type": "code",
   "execution_count": 5,
   "id": "073c9407-b867-456c-a983-398dc46bb24d",
   "metadata": {},
   "outputs": [
    {
     "data": {
      "text/plain": [
       "([20, '25', 30], ['ramesh', 'suresh', 'sathish'])"
      ]
     },
     "execution_count": 5,
     "metadata": {},
     "output_type": "execute_result"
    }
   ],
   "source": [
    "d={20:'ramesh','25':'suresh',30:'sathish'}\n",
    "list(d.keys()),list(d.values())\n"
   ]
  },
  {
   "cell_type": "code",
   "execution_count": 3,
   "id": "aedf68ad-042e-49be-a5ed-b051a595e9c5",
   "metadata": {},
   "outputs": [
    {
     "ename": "NameError",
     "evalue": "name 'd6' is not defined",
     "output_type": "error",
     "traceback": [
      "\u001b[1;31m---------------------------------------------------------------------------\u001b[0m",
      "\u001b[1;31mNameError\u001b[0m                                 Traceback (most recent call last)",
      "Cell \u001b[1;32mIn[3], line 1\u001b[0m\n\u001b[1;32m----> 1\u001b[0m d6\u001b[38;5;241m.\u001b[39mitems()\n",
      "\u001b[1;31mNameError\u001b[0m: name 'd6' is not defined"
     ]
    }
   ],
   "source": [
    "d6.items()"
   ]
  },
  {
   "cell_type": "code",
   "execution_count": 1,
   "id": "66b59190-49cf-4b63-a170-c1cd374e032f",
   "metadata": {},
   "outputs": [
    {
     "data": {
      "text/plain": [
       "25"
      ]
     },
     "execution_count": 1,
     "metadata": {},
     "output_type": "execute_result"
    }
   ],
   "source": [
    "d1={'manish':25,'shubam':20,'govindh':15}\n",
    "#dictionary is a key :value pair\n",
    "#we cant not use index number directly\n",
    "#when ever you want to call a value we will use key\n",
    "d1['manish']\n",
    "d1['shubam']\n",
    "d1['govindh']\n",
    "\n",
    "d1[i]"
   ]
  },
  {
   "cell_type": "code",
   "execution_count": null,
   "id": "bf5f4d6b-e462-4bb3-ab33-4c7b04578d0a",
   "metadata": {},
   "outputs": [],
   "source": [
    "#if we want to call directly we using a key value"
   ]
  },
  {
   "cell_type": "code",
   "execution_count": 5,
   "id": "e9b702cb-be06-4065-b923-81db5301f7c8",
   "metadata": {},
   "outputs": [
    {
     "name": "stdout",
     "output_type": "stream",
     "text": [
      "manish has the age of 25\n",
      "shubam has the age of 20\n",
      "govindh has the age of 15\n"
     ]
    }
   ],
   "source": [
    "for i in d1:\n",
    "    print(f\"{i} has the age of {d1[i]}\")"
   ]
  },
  {
   "cell_type": "markdown",
   "id": "0d77162a-4358-4757-b16f-c7a9badf8f8e",
   "metadata": {},
   "source": [
    "# compare the list"
   ]
  },
  {
   "cell_type": "code",
   "execution_count": null,
   "id": "4f6b6ac2-802b-44c3-adfd-b69903622c75",
   "metadata": {},
   "outputs": [],
   "source": [
    "# if a person is giving two lists  then we need to use 'zip' function"
   ]
  },
  {
   "cell_type": "code",
   "execution_count": 6,
   "id": "61a4432b-81dc-42f7-bd15-0dbacf6c99f0",
   "metadata": {},
   "outputs": [
    {
     "name": "stdout",
     "output_type": "stream",
     "text": [
      "manish has the age 20\n",
      "shubam has the age 25\n",
      "vignesh has the age 30\n"
     ]
    }
   ],
   "source": [
    "names=['manish','shubam','vignesh']\n",
    "age=[20,25,30]\n",
    "for i,j in zip(names,age):\n",
    "    print(f\"{i} has the age {j}\")\n",
    "\n"
   ]
  },
  {
   "cell_type": "code",
   "execution_count": null,
   "id": "0103fe56-25dd-4d49-8c6e-41e34a6db3a9",
   "metadata": {},
   "outputs": [],
   "source": [
    "d1={'manish':25,'shubam':20,'govindh':15}"
   ]
  },
  {
   "cell_type": "code",
   "execution_count": null,
   "id": "a8de0c3c-07c2-46c5-a058-3ada6230644d",
   "metadata": {},
   "outputs": [],
   "source": [
    "**dictionary**\n",
    "\n",
    "- we alrady seen many datatypes\n",
    "\n",
    "- string\n",
    "\n",
    "- list\n",
    "\n",
    "- tuple\n",
    "\n",
    "- set\n",
    "\n",
    "- dictionary\n",
    "\n",
    "- int float complex boolean\n",
    "\n",
    "- eval is not a datatype\n",
    "\n",
    "- pandas numpy\n",
    "\n",
    "- range\n",
    "\n",
    "- bytes"
   ]
  },
  {
   "cell_type": "code",
   "execution_count": null,
   "id": "5b99c58f-cb90-4353-8286-39cdc06b7d3f",
   "metadata": {},
   "outputs": [],
   "source": [
    "# represents\n",
    "string=''\n",
    "tuple=()\n",
    "list=[]\n",
    "set={}\n",
    "dictionary={key:value}\n",
    "\n"
   ]
  },
  {
   "cell_type": "code",
   "execution_count": null,
   "id": "141b80fa-5078-405d-a7cc-b9cd0bca07d7",
   "metadata": {},
   "outputs": [],
   "source": [
    "# zip\n",
    "\n",
    "- zip is used to combined the list"
   ]
  },
  {
   "cell_type": "code",
   "execution_count": 7,
   "id": "b391ba3c-c221-4a3a-91e7-82e48176e587",
   "metadata": {},
   "outputs": [
    {
     "name": "stdout",
     "output_type": "stream",
     "text": [
      "ramesh is the age of 20\n",
      "suresh is the age of 25\n",
      "satish is the age of 30\n"
     ]
    }
   ],
   "source": [
    "names=['ramesh','suresh','satish']\n",
    "age=[20,25,30]\n",
    "#here are the two lists we need to combine like this \n",
    "#op= ramesh age is 20\n",
    "for i,j in zip(names,age):\n",
    "    print(f\"{i} is the age of {j}\")"
   ]
  },
  {
   "cell_type": "code",
   "execution_count": 10,
   "id": "ac3766f0-ac5e-4959-b588-d296680ef49c",
   "metadata": {},
   "outputs": [
    {
     "data": {
      "text/plain": [
       "list"
      ]
     },
     "execution_count": 10,
     "metadata": {},
     "output_type": "execute_result"
    }
   ],
   "source": [
    "type(list(zip(names,age)))"
   ]
  },
  {
   "cell_type": "code",
   "execution_count": null,
   "id": "75ac110e-2385-44dc-95a5-df62dc0ca6bc",
   "metadata": {},
   "outputs": [],
   "source": [
    "dict1={<key>:<value>}\n",
    "names=['ramesh','suresh','sathish']\n",
    "age=[20,25,30]\n",
    "'ramesh' is the key =====20 its related value\n",
    "dict1={'ramesh':20,'suresh':25,'satish':30}"
   ]
  },
  {
   "cell_type": "code",
   "execution_count": 11,
   "id": "5aed97e4-133f-4f3c-aa2c-8d52620b9ca9",
   "metadata": {},
   "outputs": [
    {
     "data": {
      "text/plain": [
       "dict"
      ]
     },
     "execution_count": 11,
     "metadata": {},
     "output_type": "execute_result"
    }
   ],
   "source": [
    "dict1={'ramesh':20,'suresh':25,'satish':30}\n",
    "type(dict1)"
   ]
  },
  {
   "cell_type": "code",
   "execution_count": null,
   "id": "95414c81-df78-4065-81a3-0f82bf7dac11",
   "metadata": {},
   "outputs": [],
   "source": [
    "if the list are different length?\n",
    "if both  lists are different length, zip will not work \n"
   ]
  },
  {
   "cell_type": "code",
   "execution_count": null,
   "id": "b49f469f-03f8-4b14-9ac4-7d058d60d3f8",
   "metadata": {},
   "outputs": [],
   "source": [
    "- initialization\n",
    "\n",
    "- type\n",
    "\n",
    "- max\n",
    "\n",
    "- min\n",
    "\n",
    "- len\n",
    "\n",
    "-reversed\n",
    "\n",
    "- sorted\n",
    "\n",
    "- in\n",
    "\n",
    "- index\n",
    "\n",
    "- concate\n",
    "\n",
    "- mutable"
   ]
  },
  {
   "cell_type": "code",
   "execution_count": null,
   "id": "a9d97aa5-ca1f-4686-bbc1-27057f6902bd",
   "metadata": {},
   "outputs": [],
   "source": [
    "**create all type of dictionaries**"
   ]
  },
  {
   "cell_type": "code",
   "execution_count": 24,
   "id": "bb3dc41f-15f9-425f-9ad2-fd629fc2c5c5",
   "metadata": {},
   "outputs": [
    {
     "data": {
      "text/plain": [
       "{'frites': {'mango': 25}}"
      ]
     },
     "execution_count": 24,
     "metadata": {},
     "output_type": "execute_result"
    }
   ],
   "source": [
    "#d1={'ramesh':20,'suresh':25,'satish':30}\n",
    "#d2={'ramesh':'20','suresh':'25','satish':'30'}\n",
    "#d3={20:'ramesh',25:'suresh',30:'satish'}\n",
    "#d4={'ramesh':[20],'suresh':[25],'satish':[30]}\n",
    "#d5={'ramesh':(20),'suresh':(25),'satish':(30)}\n",
    "#d6={'ramesh':20,'suresh':20,'satish':20}\n",
    "#d7={'fruites':['apple','mango']}\n",
    "#d8=20:25\n",
    "#d9={['apple','mango']:'fruites'}\n",
    "d10={'frites':{'mango':25}}\n",
    "\n",
    "\n",
    "\n",
    "d10\n"
   ]
  },
  {
   "cell_type": "markdown",
   "id": "8a1cb58a-db29-44e3-b47b-5debc916f346",
   "metadata": {},
   "source": [
    "**keys are important**\n",
    "\n",
    "- keys have only latest value\n",
    "\n",
    "- no duplicate keys\n",
    "\n",
    "- keys should be only one\n",
    "\n",
    "- values can be duplicate \n",
    "\n",
    "- which means dierent keys can have same value\n",
    "\n",
    "- list can not be a key, because lists are mutable\n",
    "\n",
    "- tuple can be a key, because tuple are immutable"
   ]
  },
  {
   "cell_type": "code",
   "execution_count": 36,
   "id": "a2c59f4e-8dde-41c0-badb-9a027629d3f9",
   "metadata": {},
   "outputs": [
    {
     "data": {
      "text/plain": [
       "['ramesh', 'satish', 'suresh']"
      ]
     },
     "execution_count": 36,
     "metadata": {},
     "output_type": "execute_result"
    }
   ],
   "source": [
    "d1={'ramesh':20,'suresh':25,'satish':30}\n",
    "#max(d1)\n",
    "min(d1)\n",
    "len(d1)\n",
    "list(reversed(d1))\n",
    "sorted(d1)\n",
    "\n",
    "#d3={20:'ramesh',25:'suresh',30:'satish'}\n",
    "\n",
    "#operations apply on keys\n",
    "\n",
    "#keys are important for us"
   ]
  },
  {
   "cell_type": "code",
   "execution_count": 45,
   "id": "b7e71dd4-7770-4436-bdb7-f3919fa57a39",
   "metadata": {},
   "outputs": [
    {
     "data": {
      "text/plain": [
       "False"
      ]
     },
     "execution_count": 45,
     "metadata": {},
     "output_type": "execute_result"
    }
   ],
   "source": [
    "d2={'ramesh':'20','suresh':'25','satish':'30'}\n",
    "max(d2)\n",
    "min(d2)\n",
    "len(d2)\n",
    "list(reversed(d2))\n",
    "sorted(d2)\n",
    "'r'in(d2)"
   ]
  },
  {
   "cell_type": "code",
   "execution_count": 45,
   "id": "78803ae9-e660-4179-83bc-6d75ca009bc8",
   "metadata": {},
   "outputs": [
    {
     "data": {
      "text/plain": [
       "False"
      ]
     },
     "execution_count": 45,
     "metadata": {},
     "output_type": "execute_result"
    }
   ],
   "source": [
    "d2={'ramesh':'20','suresh':'25','satish':'30'}\n",
    "max(d2)\n",
    "min(d2)\n",
    "len(d2)\n",
    "list(reversed(d2))\n",
    "sorted(d2)\n",
    "'r'in(d2)"
   ]
  },
  {
   "cell_type": "code",
   "execution_count": 51,
   "id": "d86ecf41-b49e-421f-ab23-37d1b0761f23",
   "metadata": {},
   "outputs": [
    {
     "ename": "SyntaxError",
     "evalue": "invalid syntax (4014427986.py, line 7)",
     "output_type": "error",
     "traceback": [
      "\u001b[1;36m  Cell \u001b[1;32mIn[51], line 7\u001b[1;36m\u001b[0m\n\u001b[1;33m    in(d3)\u001b[0m\n\u001b[1;37m    ^\u001b[0m\n\u001b[1;31mSyntaxError\u001b[0m\u001b[1;31m:\u001b[0m invalid syntax\n"
     ]
    }
   ],
   "source": [
    "d3={20:'ramesh',25:'suresh',30:'satish'}\n",
    "max(d3)\n",
    "min(d3)\n",
    "len(d3)\n",
    "list(reversed(d3))\n",
    "sorted(d3)\n",
    "in(d3)"
   ]
  },
  {
   "cell_type": "code",
   "execution_count": 56,
   "id": "a7840a03-3bd2-49aa-96e5-afe07c952249",
   "metadata": {},
   "outputs": [
    {
     "ename": "SyntaxError",
     "evalue": "invalid syntax (3597481537.py, line 7)",
     "output_type": "error",
     "traceback": [
      "\u001b[1;36m  Cell \u001b[1;32mIn[56], line 7\u001b[1;36m\u001b[0m\n\u001b[1;33m    in(d4)\u001b[0m\n\u001b[1;37m    ^\u001b[0m\n\u001b[1;31mSyntaxError\u001b[0m\u001b[1;31m:\u001b[0m invalid syntax\n"
     ]
    }
   ],
   "source": [
    "d4={'manish':25,'shubam':'20','govindh':15}\n",
    "max(d4)\n",
    "min(d4)\n",
    "len(d4)\n",
    "list(reversed(d4))\n",
    "sorted(d4)\n",
    "in(d4)"
   ]
  },
  {
   "cell_type": "code",
   "execution_count": 57,
   "id": "05cff9a9-ffd6-4dc4-81ff-8d0511645182",
   "metadata": {},
   "outputs": [
    {
     "ename": "TypeError",
     "evalue": "'>' not supported between instances of 'str' and 'int'",
     "output_type": "error",
     "traceback": [
      "\u001b[1;31m---------------------------------------------------------------------------\u001b[0m",
      "\u001b[1;31mTypeError\u001b[0m                                 Traceback (most recent call last)",
      "Cell \u001b[1;32mIn[57], line 2\u001b[0m\n\u001b[0;32m      1\u001b[0m d5\u001b[38;5;241m=\u001b[39m{\u001b[38;5;241m20\u001b[39m:\u001b[38;5;124m'\u001b[39m\u001b[38;5;124mmanish\u001b[39m\u001b[38;5;124m'\u001b[39m,\u001b[38;5;124m'\u001b[39m\u001b[38;5;124m20\u001b[39m\u001b[38;5;124m'\u001b[39m:\u001b[38;5;124m'\u001b[39m\u001b[38;5;124mshubam\u001b[39m\u001b[38;5;124m'\u001b[39m,\u001b[38;5;241m30\u001b[39m:\u001b[38;5;124m'\u001b[39m\u001b[38;5;124mgovindh\u001b[39m\u001b[38;5;124m'\u001b[39m}\n\u001b[1;32m----> 2\u001b[0m \u001b[38;5;28mmax\u001b[39m(d5)\n\u001b[0;32m      3\u001b[0m \u001b[38;5;28mmin\u001b[39m(d5)\n\u001b[0;32m      4\u001b[0m \u001b[38;5;28mlen\u001b[39m(d5)\n",
      "\u001b[1;31mTypeError\u001b[0m: '>' not supported between instances of 'str' and 'int'"
     ]
    }
   ],
   "source": [
    "d5={20:'manish','20':'shubam',30:'govindh'}\n",
    "max(d5)\n",
    "min(d5)\n",
    "len(d5)\n",
    "list(reversed(d5))\n",
    "sorted(d5)\n",
    "#in(d4)"
   ]
  },
  {
   "cell_type": "code",
   "execution_count": 59,
   "id": "3027556b-0673-49d7-bac4-d21f331af79a",
   "metadata": {},
   "outputs": [
    {
     "data": {
      "text/plain": [
       "True"
      ]
     },
     "execution_count": 59,
     "metadata": {},
     "output_type": "execute_result"
    }
   ],
   "source": [
    "d6={'manish':20,'shubam':20,'govindh':20}\n",
    "max(d6)\n",
    "min(d6)\n",
    "len(d6)\n",
    "list(reversed(d6))\n",
    "sorted(d6)\n",
    "'manish' in(d6)"
   ]
  },
  {
   "cell_type": "code",
   "execution_count": 31,
   "id": "2151a7d5-3f4d-45d5-8c68-a304bbca4696",
   "metadata": {},
   "outputs": [
    {
     "data": {
      "text/plain": [
       "20"
      ]
     },
     "execution_count": 31,
     "metadata": {},
     "output_type": "execute_result"
    }
   ],
   "source": [
    "d7={20:'manish',20:'shubam',20:'govindh'}\n",
    "max(d7)\n",
    "min(d7)\n",
    "len(d7)\n",
    "list(reversed(d7))\n",
    "sorted(d7)\n",
    "in(d7)"
   ]
  },
  {
   "cell_type": "markdown",
   "id": "c2ec9780-1fa3-43d9-b0bd-9c6d89f3b66f",
   "metadata": {},
   "source": [
    "**index**"
   ]
  },
  {
   "cell_type": "code",
   "execution_count": 60,
   "id": "bff6b9a8-daff-43c6-988f-fca66af322e4",
   "metadata": {},
   "outputs": [
    {
     "data": {
      "text/plain": [
       "25"
      ]
     },
     "execution_count": 60,
     "metadata": {},
     "output_type": "execute_result"
    }
   ],
   "source": [
    "d1={'manish':25,'shubam':20,'govindh':15}\n",
    "#if you want retrieve the values\n",
    "#python will never give 'manish':25\n",
    "#you compulsary call like\n",
    "d1['manish']"
   ]
  },
  {
   "cell_type": "markdown",
   "id": "d74ea0a7-eb67-4c6c-b818-6e2b680c87ed",
   "metadata": {},
   "source": [
    "**dictionary to list**"
   ]
  },
  {
   "cell_type": "code",
   "execution_count": 63,
   "id": "51efa763-30ef-48c3-99df-6a8ea0e6ea6b",
   "metadata": {},
   "outputs": [
    {
     "data": {
      "text/plain": [
       "(['manish', 'shubam', 'govindh'], [25, 20, 15])"
      ]
     },
     "execution_count": 63,
     "metadata": {},
     "output_type": "execute_result"
    }
   ],
   "source": [
    "d1={'manish':25,'shubam':20,'govindh':15}\n",
    "keys,values=[],[]\n",
    "for i in d1:\n",
    "    keys.append(i)\n",
    "    values.append(d1[i])\n",
    "keys,values"
   ]
  },
  {
   "cell_type": "code",
   "execution_count": 65,
   "id": "0b7c8100-ea56-4cb3-ba71-7d6e8436dc9f",
   "metadata": {},
   "outputs": [],
   "source": [
    "keys=[i for i in d1]\n",
    "values=[d1[i] for i in d1]"
   ]
  },
  {
   "cell_type": "markdown",
   "id": "3b487274-656b-4a8b-9077-22ea71a3e02a",
   "metadata": {},
   "source": [
    "**how to create a empty list**\n",
    "\n"
   ]
  },
  {
   "cell_type": "code",
   "execution_count": 70,
   "id": "47b940ed-b60b-45f0-8a6e-7e9407d106c4",
   "metadata": {},
   "outputs": [
    {
     "data": {
      "text/plain": [
       "[20, 30]"
      ]
     },
     "execution_count": 70,
     "metadata": {},
     "output_type": "execute_result"
    }
   ],
   "source": [
    "l=[]\n",
    "l.append(20)\n",
    "l.append(30)\n",
    "l"
   ]
  },
  {
   "cell_type": "code",
   "execution_count": 69,
   "id": "911b09e7-43b1-4cb1-8f64-a4a3af1d88f7",
   "metadata": {},
   "outputs": [
    {
     "data": {
      "text/plain": [
       "[80]"
      ]
     },
     "execution_count": 69,
     "metadata": {},
     "output_type": "execute_result"
    }
   ],
   "source": [
    "l1=[]\n",
    "l1.append(80)\n",
    "l1"
   ]
  },
  {
   "cell_type": "code",
   "execution_count": null,
   "id": "5d15a837-3b43-457b-8ecd-47376007bb04",
   "metadata": {},
   "outputs": [],
   "source": []
  },
  {
   "cell_type": "markdown",
   "id": "4828d8c2-f41f-4c19-bfb1-70dae2e96033",
   "metadata": {},
   "source": [
    "**empty string**"
   ]
  },
  {
   "cell_type": "code",
   "execution_count": 72,
   "id": "6222fcbc-bfd3-49cf-954f-760c5d01ec8e",
   "metadata": {},
   "outputs": [
    {
     "data": {
      "text/plain": [
       "'a'"
      ]
     },
     "execution_count": 72,
     "metadata": {},
     "output_type": "execute_result"
    }
   ],
   "source": [
    "s=''\n",
    "s='a'\n",
    "s"
   ]
  },
  {
   "cell_type": "code",
   "execution_count": 73,
   "id": "b5568a98-5b15-4e51-af78-3d87b88ffc53",
   "metadata": {},
   "outputs": [
    {
     "data": {
      "text/plain": [
       "'a'"
      ]
     },
     "execution_count": 73,
     "metadata": {},
     "output_type": "execute_result"
    }
   ],
   "source": [
    "s=''\n",
    "s='a'\n",
    "s"
   ]
  },
  {
   "cell_type": "markdown",
   "id": "2a715732-7206-4562-b2ac-06230d5440b9",
   "metadata": {},
   "source": [
    "**empty dictionary**"
   ]
  },
  {
   "cell_type": "code",
   "execution_count": 76,
   "id": "6407c1be-083b-41e1-8962-d1d1427a31bd",
   "metadata": {},
   "outputs": [
    {
     "data": {
      "text/plain": [
       "{'rani': 23}"
      ]
     },
     "execution_count": 76,
     "metadata": {},
     "output_type": "execute_result"
    }
   ],
   "source": [
    "d={}\n",
    "#d[<key>]=<value>\n",
    "d['rani']=23\n",
    "d"
   ]
  },
  {
   "cell_type": "code",
   "execution_count": 77,
   "id": "aabf99b8-f713-4ebd-8a22-e7dd96c5fcc6",
   "metadata": {},
   "outputs": [
    {
     "data": {
      "text/plain": [
       "{'rani': 23, 'rena': 29, 'raji': 23}"
      ]
     },
     "execution_count": 77,
     "metadata": {},
     "output_type": "execute_result"
    }
   ],
   "source": [
    "d={}\n",
    "#d[<key>]=<value>\n",
    "d['rani']=23\n",
    "d['rena']=29\n",
    "d['raji']=23\n",
    "d"
   ]
  },
  {
   "cell_type": "code",
   "execution_count": 78,
   "id": "06e415c2-5606-44af-81ed-2f6a002c425b",
   "metadata": {},
   "outputs": [
    {
     "name": "stdout",
     "output_type": "stream",
     "text": [
      "rani has the age of23\n",
      "rena has the age of29\n",
      "raji has the age of23\n"
     ]
    }
   ],
   "source": [
    "names=['rani','rena','raji']\n",
    "age=[23,29,23]\n",
    "for i,j in zip(names,age):\n",
    "    print(f\"{i} has the age of{j}\")"
   ]
  },
  {
   "cell_type": "code",
   "execution_count": 79,
   "id": "88138629-66a8-4a96-8198-c85554ee2edf",
   "metadata": {},
   "outputs": [
    {
     "ename": "ValueError",
     "evalue": "too many values to unpack (expected 2)",
     "output_type": "error",
     "traceback": [
      "\u001b[1;31m---------------------------------------------------------------------------\u001b[0m",
      "\u001b[1;31mValueError\u001b[0m                                Traceback (most recent call last)",
      "Cell \u001b[1;32mIn[79], line 4\u001b[0m\n\u001b[0;32m      2\u001b[0m age\u001b[38;5;241m=\u001b[39m[\u001b[38;5;241m23\u001b[39m,\u001b[38;5;241m29\u001b[39m,\u001b[38;5;241m23\u001b[39m]\n\u001b[0;32m      3\u001b[0m \u001b[38;5;66;03m#d[i]=j\u001b[39;00m\n\u001b[1;32m----> 4\u001b[0m \u001b[38;5;28;01mfor\u001b[39;00m i,j \u001b[38;5;129;01min\u001b[39;00m (names,age):\n\u001b[0;32m      5\u001b[0m     \u001b[38;5;28mprint\u001b[39m(i,d[j])\n\u001b[0;32m      6\u001b[0m names,age\n",
      "\u001b[1;31mValueError\u001b[0m: too many values to unpack (expected 2)"
     ]
    }
   ],
   "source": [
    "names=['rani','rena','raji']\n",
    "age=[23,29,23]\n",
    "#d[i]=j\n",
    "for i,j in (names,age):\n",
    "    print(i,d[j])\n",
    "names,age\n"
   ]
  },
  {
   "cell_type": "code",
   "execution_count": null,
   "id": "3cd6fd27-febf-4b95-ae1a-720781416dc7",
   "metadata": {},
   "outputs": [],
   "source": [
    "d{}\n",
    "d[i]=j"
   ]
  },
  {
   "cell_type": "code",
   "execution_count": 81,
   "id": "2e9b7cd5-11b4-4d72-b8c4-64b09bec9a45",
   "metadata": {},
   "outputs": [],
   "source": [
    "names=['rani','rena','raji']\n",
    "age=[23,29,23]\n",
    "Names={}\n",
    "for i,j in zip(names,age):\n",
    "    Names[i]=j\n",
    "Names"
   ]
  },
  {
   "cell_type": "code",
   "execution_count": 84,
   "id": "3a86bd5f-63e6-4f6b-92d3-c44fc7c318da",
   "metadata": {},
   "outputs": [
    {
     "data": {
      "text/plain": [
       "{'rani': 20, 'renu': 21, 'raji': 22}"
      ]
     },
     "execution_count": 84,
     "metadata": {},
     "output_type": "execute_result"
    }
   ],
   "source": [
    "names=['rani','renu','raji']\n",
    "age=[20,21,22]\n",
    "D={}\n",
    "#create a list using this two lists\n",
    "#by using two lists combining one op that is zip \n",
    "for i,j in zip(names,age):\n",
    "    D[i]=j\n",
    "D\n",
    "    "
   ]
  },
  {
   "cell_type": "code",
   "execution_count": 90,
   "id": "6079544c-f403-476c-994d-7b68b4f61fbc",
   "metadata": {},
   "outputs": [
    {
     "name": "stdout",
     "output_type": "stream",
     "text": [
      "None\n",
      "None\n",
      "None\n",
      "None\n",
      "None\n",
      "None\n"
     ]
    },
    {
     "data": {
      "text/plain": [
       "(['rani', 'rena', 'raji'], [23, 29, 30])"
      ]
     },
     "execution_count": 90,
     "metadata": {},
     "output_type": "execute_result"
    }
   ],
   "source": [
    "# dict to list\n",
    "d={'rani':23,'rena':29,'raji':30}\n",
    "#op=(['rani','rena','raji'],[23,29,30])\n",
    "keys,values=[],[]\n",
    "for i in d:\n",
    "    print(keys.append(i))\n",
    "    print(values.append(d[i]))\n",
    "keys,values"
   ]
  },
  {
   "cell_type": "code",
   "execution_count": 92,
   "id": "5a421db0-39ca-476a-8f2d-a60f3e33fd34",
   "metadata": {},
   "outputs": [
    {
     "data": {
      "text/plain": [
       "(['rani', 'rena', 'raji'], [23, 29, 30])"
      ]
     },
     "execution_count": 92,
     "metadata": {},
     "output_type": "execute_result"
    }
   ],
   "source": [
    "games={'cricket':11,'kabaddi':7,'khokho':14}\n",
    "keys,values=[],[]\n",
    "for i in d:\n",
    "    keys.append(i)\n",
    "    values.append(d[i])\n",
    "keys,values"
   ]
  },
  {
   "cell_type": "code",
   "execution_count": 93,
   "id": "6cc9994b-582a-4d44-9ba6-b69e9d4f578a",
   "metadata": {},
   "outputs": [
    {
     "data": {
      "text/plain": [
       "{'cricket': 11, 'kabaddi': 7, 'khokho': 11}"
      ]
     },
     "execution_count": 93,
     "metadata": {},
     "output_type": "execute_result"
    }
   ],
   "source": [
    "#list to dict\n",
    "games=['cricket','kabaddi','khokho']\n",
    "members=[11,7,11]\n",
    "D={}\n",
    "for i,j in zip(games,members):\n",
    "    D[i]=j\n",
    "D"
   ]
  },
  {
   "cell_type": "markdown",
   "id": "49e29690-0c15-495c-8e66-075a1245c7c1",
   "metadata": {},
   "source": [
    "**string to list**"
   ]
  },
  {
   "cell_type": "code",
   "execution_count": 96,
   "id": "5d048c10-5cfc-4c90-b403-161452d16ea6",
   "metadata": {},
   "outputs": [
    {
     "data": {
      "text/plain": [
       "['hello', 'hai', 'hai', 'hai', 'how', 'hello', 'are', 'you']"
      ]
     },
     "execution_count": 96,
     "metadata": {},
     "output_type": "execute_result"
    }
   ],
   "source": [
    "s='hello hai hai hai how  hello are you'\n",
    "#split is used to convert string to list\n",
    "s.split()"
   ]
  },
  {
   "cell_type": "markdown",
   "id": "b39bfaf8-9c23-458d-b412-45d2599a96cf",
   "metadata": {},
   "source": [
    "**word frequency program**"
   ]
  },
  {
   "cell_type": "code",
   "execution_count": 106,
   "id": "86f9611d-ddaa-4db7-ba76-666b5ca96d41",
   "metadata": {},
   "outputs": [
    {
     "ename": "TypeError",
     "evalue": "'list' object is not callable",
     "output_type": "error",
     "traceback": [
      "\u001b[1;31m---------------------------------------------------------------------------\u001b[0m",
      "\u001b[1;31mTypeError\u001b[0m                                 Traceback (most recent call last)",
      "Cell \u001b[1;32mIn[106], line 13\u001b[0m\n\u001b[0;32m     11\u001b[0m words_list\n\u001b[0;32m     12\u001b[0m dict1\u001b[38;5;241m=\u001b[39m{}\n\u001b[1;32m---> 13\u001b[0m \u001b[38;5;28;01mfor\u001b[39;00m word \u001b[38;5;129;01min\u001b[39;00m words_list():\n\u001b[0;32m     14\u001b[0m     \u001b[38;5;66;03m#print(s.count(word))\u001b[39;00m\n\u001b[0;32m     15\u001b[0m     dict1[word]\u001b[38;5;241m=\u001b[39ms\u001b[38;5;241m.\u001b[39mcount(word)\n\u001b[0;32m     16\u001b[0m dict1\n",
      "\u001b[1;31mTypeError\u001b[0m: 'list' object is not callable"
     ]
    }
   ],
   "source": [
    "#o/p:{'hello':2,'hai':3,'how':1,'are':1,'you':1}\n",
    "#idea\n",
    "#step-1:split the string:list of words\n",
    "#step-2:iterate using the list\n",
    "#           each word will come apply the ount \n",
    "#            word key,count become value\n",
    "#step-3:make a dictionary\n",
    "\n",
    "s='hello hai hai hai how  hello are you'\n",
    "words_list=s.split()\n",
    "words_list\n",
    "dict1={}\n",
    "for word in words_list():\n",
    "    #print(s.count(word))\n",
    "    dict1[word]=s.count(word)\n",
    "dict1\n",
    "    \n",
    "    \n"
   ]
  },
  {
   "cell_type": "code",
   "execution_count": 107,
   "id": "04f57b68-d07b-486c-b662-1ceb6133afbf",
   "metadata": {},
   "outputs": [
    {
     "data": {
      "text/plain": [
       "{'hello': 2, 'hai': 3, 'how': 1, 'are': 1, 'you': 1}"
      ]
     },
     "execution_count": 107,
     "metadata": {},
     "output_type": "execute_result"
    }
   ],
   "source": [
    "s='hello hai hai hai how  hello are you'\n",
    "words_list=s.split()\n",
    "words_list\n",
    "dict1={}\n",
    "for word in words_list:\n",
    "    #print(s.count(word))\n",
    "    dict1[word]=s.count(word)\n",
    "dict1\n",
    "    "
   ]
  },
  {
   "cell_type": "code",
   "execution_count": 116,
   "id": "c2bf8de0-a8f4-4d16-9b47-d3ebd708a2a1",
   "metadata": {},
   "outputs": [
    {
     "data": {
      "text/plain": [
       "{'good': 2, 'morning': 1, 'hyd': 2}"
      ]
     },
     "execution_count": 116,
     "metadata": {},
     "output_type": "execute_result"
    }
   ],
   "source": [
    "s='good good morning hyd hyd'\n",
    "#op={'good':1,'morning':1,'hyd':1}\n",
    "words_list=s.split()\n",
    "words_list\n",
    "d={}\n",
    "for word  in words_list:\n",
    "   # print(s.count(word))\n",
    "    d[word]=s.count(word)\n",
    "d\n",
    "    "
   ]
  },
  {
   "cell_type": "code",
   "execution_count": 83,
   "id": "852c1323-07d7-497a-8f6c-6c2a23cab59c",
   "metadata": {},
   "outputs": [
    {
     "data": {
      "text/plain": [
       "{'rani': 23, 'rena': 29, 'raji': 23}"
      ]
     },
     "execution_count": 83,
     "metadata": {},
     "output_type": "execute_result"
    }
   ],
   "source": [
    "Names"
   ]
  },
  {
   "cell_type": "code",
   "execution_count": 119,
   "id": "0221ff37-0bb4-4e78-8d37-c6903a58a4bc",
   "metadata": {},
   "outputs": [
    {
     "data": {
      "text/plain": [
       "{'rani': 22, 'rena': 29, 'raji': 30}"
      ]
     },
     "execution_count": 119,
     "metadata": {},
     "output_type": "execute_result"
    }
   ],
   "source": [
    "d={'rani':23,'rena':29,'raji':30}\n",
    "d['rani']=22\n",
    "d"
   ]
  },
  {
   "cell_type": "code",
   "execution_count": null,
   "id": "ce26635f-56e3-4f2a-bda8-89a6cda52ded",
   "metadata": {},
   "outputs": [],
   "source": [
    "- LIST and dictionary are mutable\n",
    "\n",
    "- tuple and strings are immutable\n",
    "\n",
    "- difference b/w list and tuple"
   ]
  },
  {
   "cell_type": "code",
   "execution_count": 3,
   "id": "306ecd27-3afe-4a22-a48b-18ced8d93dac",
   "metadata": {},
   "outputs": [
    {
     "data": {
      "text/plain": [
       "'mango'"
      ]
     },
     "execution_count": 3,
     "metadata": {},
     "output_type": "execute_result"
    }
   ],
   "source": [
    "d={'fruites':['mango']}\n",
    "d['fruites'][0]"
   ]
  },
  {
   "cell_type": "code",
   "execution_count": 13,
   "id": "190e8e44-f1f0-4b08-b489-9604919c51f2",
   "metadata": {},
   "outputs": [
    {
     "data": {
      "text/plain": [
       "'kashmir'"
      ]
     },
     "execution_count": 13,
     "metadata": {},
     "output_type": "execute_result"
    }
   ],
   "source": [
    "d={'fruites':[{'apple':['kashmir']}]}\n",
    "d['fruites'][0]['apple'][0]"
   ]
  },
  {
   "cell_type": "code",
   "execution_count": 19,
   "id": "1a4c4bf4-7bab-4eab-bcd2-20a8b56fd800",
   "metadata": {},
   "outputs": [],
   "source": [
    "d1={'fruites':[{'orange':['kashmir']}]}\n",
    "d1=['fruites']"
   ]
  },
  {
   "cell_type": "code",
   "execution_count": null,
   "id": "f813ff8b-0338-4af9-9d78-627cb597f50b",
   "metadata": {},
   "outputs": [],
   "source": [
    "- first need to  check ==d['fruites'] -----\n",
    "\n",
    "- next see whether it is  dictionary or list\n",
    "\n",
    "- if it is dictionary next add the key ====d['apple']\n",
    "\n",
    "- if it is list next add the list index===d['apple'][0]\n",
    "\n",
    "- if any doubt in length its immediatly check on that ===len(d['apple'])\n",
    "\n",
    "- then we see 'kashmir'"
   ]
  },
  {
   "cell_type": "code",
   "execution_count": 20,
   "id": "99b3d14e-1d1a-46f3-9768-5a2a819ecd96",
   "metadata": {},
   "outputs": [
    {
     "data": {
      "text/plain": [
       "{'fruites': [{'apple': {'kashmir': ['india']}}]}"
      ]
     },
     "execution_count": 20,
     "metadata": {},
     "output_type": "execute_result"
    }
   ],
   "source": [
    "d={'fruites':[\n",
    "    {'apple':\n",
    "     {'kashmir':\n",
    "      ['india']\n",
    "     }\n",
    "    }\n",
    "]\n",
    "  }\n",
    "d"
   ]
  },
  {
   "cell_type": "code",
   "execution_count": 26,
   "id": "223aac42-cdd4-4e37-bd95-6d0796c6b03d",
   "metadata": {},
   "outputs": [
    {
     "data": {
      "text/plain": [
       "'india'"
      ]
     },
     "execution_count": 26,
     "metadata": {},
     "output_type": "execute_result"
    }
   ],
   "source": [
    "d['fruites'][0]['apple']['kashmir'][0]"
   ]
  },
  {
   "cell_type": "code",
   "execution_count": 35,
   "id": "df98ebce-9906-45f9-971f-fdc3114a615e",
   "metadata": {},
   "outputs": [
    {
     "data": {
      "text/plain": [
       "set"
      ]
     },
     "execution_count": 35,
     "metadata": {},
     "output_type": "execute_result"
    }
   ],
   "source": [
    "d={'fruites':{'benganapalli':{'mango':{'nagpur':{'mh':{'shivaji':{'shambaji'}}}}}}}\n",
    "type(d['fruites']['benganapalli']['mango']['nagpur']['mh']['shivaji'])"
   ]
  },
  {
   "cell_type": "markdown",
   "id": "363aa1c9-2cff-4e74-81e4-77e48a527d40",
   "metadata": {},
   "source": [
    "**dictionary methods**"
   ]
  },
  {
   "cell_type": "code",
   "execution_count": null,
   "id": "dde5a836-b73e-422e-ac68-a9b03f208fe0",
   "metadata": {},
   "outputs": [],
   "source": [
    "dir('') #string methods\n",
    "dir([]) #list methods\n",
    "dir(()) #tuple methods\n",
    "dir({}) #dictionary methods\n"
   ]
  },
  {
   "cell_type": "code",
   "execution_count": 36,
   "id": "eccdff47-3d94-4abd-8401-8b205884010d",
   "metadata": {},
   "outputs": [
    {
     "data": {
      "text/plain": [
       "['__class__',\n",
       " '__class_getitem__',\n",
       " '__contains__',\n",
       " '__delattr__',\n",
       " '__delitem__',\n",
       " '__dir__',\n",
       " '__doc__',\n",
       " '__eq__',\n",
       " '__format__',\n",
       " '__ge__',\n",
       " '__getattribute__',\n",
       " '__getitem__',\n",
       " '__getstate__',\n",
       " '__gt__',\n",
       " '__hash__',\n",
       " '__init__',\n",
       " '__init_subclass__',\n",
       " '__ior__',\n",
       " '__iter__',\n",
       " '__le__',\n",
       " '__len__',\n",
       " '__lt__',\n",
       " '__ne__',\n",
       " '__new__',\n",
       " '__or__',\n",
       " '__reduce__',\n",
       " '__reduce_ex__',\n",
       " '__repr__',\n",
       " '__reversed__',\n",
       " '__ror__',\n",
       " '__setattr__',\n",
       " '__setitem__',\n",
       " '__sizeof__',\n",
       " '__str__',\n",
       " '__subclasshook__',\n",
       " 'clear',\n",
       " 'copy',\n",
       " 'fromkeys',\n",
       " 'get',\n",
       " 'items',\n",
       " 'keys',\n",
       " 'pop',\n",
       " 'popitem',\n",
       " 'setdefault',\n",
       " 'update',\n",
       " 'values']"
      ]
     },
     "execution_count": 36,
     "metadata": {},
     "output_type": "execute_result"
    }
   ],
   "source": [
    "dir({})"
   ]
  },
  {
   "cell_type": "markdown",
   "id": "cea883d4-045d-4cbf-a118-47379fb5c53b",
   "metadata": {},
   "source": [
    "**items-keys-values**"
   ]
  },
  {
   "cell_type": "code",
   "execution_count": null,
   "id": "77db270d-6edf-499e-9a86-42ef30327d40",
   "metadata": {},
   "outputs": [],
   "source": [
    "#<package>.<methodname>"
   ]
  },
  {
   "cell_type": "code",
   "execution_count": 39,
   "id": "c3860c86-ce3a-490b-a6dc-f9cb382c10d3",
   "metadata": {},
   "outputs": [
    {
     "data": {
      "text/plain": [
       "dict_values([25, 20, 15])"
      ]
     },
     "execution_count": 39,
     "metadata": {},
     "output_type": "execute_result"
    }
   ],
   "source": [
    "d1={'manish':25,'shubam':20,'govindh':15}\n",
    "d1.items()\n",
    "d1.keys()\n",
    "d1.values()"
   ]
  },
  {
   "cell_type": "code",
   "execution_count": 43,
   "id": "9f92cf40-a830-46e5-b9c3-936009ae94e0",
   "metadata": {},
   "outputs": [
    {
     "name": "stdout",
     "output_type": "stream",
     "text": [
      "manish 25\n",
      "shubam 20\n",
      "govindh 15\n"
     ]
    },
    {
     "data": {
      "text/plain": [
       "(['manish', 'shubam', 'govindh'], [25, 20, 15])"
      ]
     },
     "execution_count": 43,
     "metadata": {},
     "output_type": "execute_result"
    }
   ],
   "source": [
    "#we already learn how to make a list from dictionary\n",
    "d={'manish':25,'shubam':20,'govindh':15}\n",
    "keys,values=[],[]\n",
    "for i in d:\n",
    "    print(i,d[i])\n",
    "    keys.append(i)\n",
    "    values.append(d[i])\n",
    "keys,values\n",
    "    \n"
   ]
  },
  {
   "cell_type": "code",
   "execution_count": 44,
   "id": "2ebf9d7b-7ad6-4ae1-b0d2-3fbd20425df8",
   "metadata": {},
   "outputs": [
    {
     "data": {
      "text/plain": [
       "['__add__',\n",
       " '__class__',\n",
       " '__class_getitem__',\n",
       " '__contains__',\n",
       " '__delattr__',\n",
       " '__delitem__',\n",
       " '__dir__',\n",
       " '__doc__',\n",
       " '__eq__',\n",
       " '__format__',\n",
       " '__ge__',\n",
       " '__getattribute__',\n",
       " '__getitem__',\n",
       " '__getstate__',\n",
       " '__gt__',\n",
       " '__hash__',\n",
       " '__iadd__',\n",
       " '__imul__',\n",
       " '__init__',\n",
       " '__init_subclass__',\n",
       " '__iter__',\n",
       " '__le__',\n",
       " '__len__',\n",
       " '__lt__',\n",
       " '__mul__',\n",
       " '__ne__',\n",
       " '__new__',\n",
       " '__reduce__',\n",
       " '__reduce_ex__',\n",
       " '__repr__',\n",
       " '__reversed__',\n",
       " '__rmul__',\n",
       " '__setattr__',\n",
       " '__setitem__',\n",
       " '__sizeof__',\n",
       " '__str__',\n",
       " '__subclasshook__',\n",
       " 'append',\n",
       " 'clear',\n",
       " 'copy',\n",
       " 'count',\n",
       " 'extend',\n",
       " 'index',\n",
       " 'insert',\n",
       " 'pop',\n",
       " 'remove',\n",
       " 'reverse',\n",
       " 'sort']"
      ]
     },
     "execution_count": 44,
     "metadata": {},
     "output_type": "execute_result"
    }
   ],
   "source": [
    "dir(list())"
   ]
  },
  {
   "cell_type": "code",
   "execution_count": 50,
   "id": "c3b34959-b0f9-43cd-9d37-339c5c3976a5",
   "metadata": {},
   "outputs": [
    {
     "data": {
      "text/plain": [
       "(['vignesh', 'mohit', 'nagesh'], [20, 25, 30])"
      ]
     },
     "execution_count": 50,
     "metadata": {},
     "output_type": "execute_result"
    }
   ],
   "source": [
    "d={'vignesh':20,'mohit':25,'nagesh':30}\n",
    "#type(d.keys())\n",
    "list(d.keys()),list(d.values())"
   ]
  },
  {
   "cell_type": "markdown",
   "id": "fe6ee2dc-bc03-4f5a-9cc7-daf565a12876",
   "metadata": {},
   "source": [
    "- dictionary keys will give dictionary keys items in alist\n",
    "\n",
    "- it looks like a list,but it is not alist\n",
    "\n",
    "- which means we can not apply list methods\n",
    "\n",
    "- so we need to convert into list type ,by using list type casting"
   ]
  },
  {
   "cell_type": "code",
   "execution_count": 53,
   "id": "6ea24149-65d3-49ff-903d-aa81308d2831",
   "metadata": {},
   "outputs": [
    {
     "data": {
      "text/plain": [
       "(['manish', 'shubam', 'govindh'], [25, 20, 30])"
      ]
     },
     "execution_count": 53,
     "metadata": {},
     "output_type": "execute_result"
    }
   ],
   "source": [
    "d={'manish':25,'shubam':20,'govindh':30}\n",
    "list(d.keys()),list(d.values())"
   ]
  },
  {
   "cell_type": "code",
   "execution_count": 55,
   "id": "806f4213-bff7-412e-bbdb-0228f47878f3",
   "metadata": {},
   "outputs": [
    {
     "data": {
      "text/plain": [
       "'manish'"
      ]
     },
     "execution_count": 55,
     "metadata": {},
     "output_type": "execute_result"
    }
   ],
   "source": [
    "list(d.keys())[0]"
   ]
  },
  {
   "cell_type": "code",
   "execution_count": 58,
   "id": "55fc0f0e-43cc-4b7a-95b8-d665c6fe8394",
   "metadata": {},
   "outputs": [
    {
     "ename": "NameError",
     "evalue": "name 'dict_keys' is not defined",
     "output_type": "error",
     "traceback": [
      "\u001b[1;31m---------------------------------------------------------------------------\u001b[0m",
      "\u001b[1;31mNameError\u001b[0m                                 Traceback (most recent call last)",
      "Cell \u001b[1;32mIn[58], line 2\u001b[0m\n\u001b[0;32m      1\u001b[0m \u001b[38;5;28mlist\u001b[39m[d\u001b[38;5;241m.\u001b[39mkeys()]\n\u001b[1;32m----> 2\u001b[0m \u001b[38;5;28mlen\u001b[39m(\u001b[38;5;28mlist\u001b[39m[dict_keys([\u001b[38;5;124m'\u001b[39m\u001b[38;5;124mmanish\u001b[39m\u001b[38;5;124m'\u001b[39m, \u001b[38;5;124m'\u001b[39m\u001b[38;5;124mshubam\u001b[39m\u001b[38;5;124m'\u001b[39m, \u001b[38;5;124m'\u001b[39m\u001b[38;5;124mgovindh\u001b[39m\u001b[38;5;124m'\u001b[39m])])\n",
      "\u001b[1;31mNameError\u001b[0m: name 'dict_keys' is not defined"
     ]
    }
   ],
   "source": [
    "list[d.keys()]\n",
    "#len(list[dict_keys(['manish', 'shubam', 'govindh'])])\n"
   ]
  },
  {
   "cell_type": "markdown",
   "id": "21fe2fce-f0da-4b38-aa19-5d6b5df107dc",
   "metadata": {},
   "source": [
    "**method-1**"
   ]
  },
  {
   "cell_type": "code",
   "execution_count": null,
   "id": "e030adc9-25b5-4dde-9fde-733a6b8d7f2e",
   "metadata": {},
   "outputs": [],
   "source": [
    "\n",
    "d={'manish':25,'shubam':20,'govindh':15}\n",
    "keys,values=[],[]\n",
    "for i in d:\n",
    "    print(i,d[i])\n",
    "    keys.append(i)\n",
    "    values.append(d[i])\n",
    "keys,values\n",
    "    "
   ]
  },
  {
   "cell_type": "markdown",
   "id": "4c9b2115-6cc1-476e-8bec-be74fb87d3c1",
   "metadata": {},
   "source": [
    "**method-2**"
   ]
  },
  {
   "cell_type": "code",
   "execution_count": null,
   "id": "f4b46d97-bdbb-47b3-b045-4561e32f3dc4",
   "metadata": {},
   "outputs": [],
   "source": [
    "d={'manish':25,'shubam':20,'govindh':30}\n",
    "keys=list(d.keys()),\n",
    "values=list(d.values())"
   ]
  },
  {
   "cell_type": "code",
   "execution_count": 59,
   "id": "868ffb2f-f8f4-4c13-ac4b-412f43b25bff",
   "metadata": {},
   "outputs": [
    {
     "data": {
      "text/plain": [
       "dict_items([('manish', 25), ('shubam', 20), ('govindh', 30)])"
      ]
     },
     "execution_count": 59,
     "metadata": {},
     "output_type": "execute_result"
    }
   ],
   "source": [
    "d.items()"
   ]
  },
  {
   "cell_type": "markdown",
   "id": "c1b37901-d17e-495c-a6c8-832f409184b0",
   "metadata": {},
   "source": [
    "**method-3**"
   ]
  },
  {
   "cell_type": "code",
   "execution_count": 62,
   "id": "85d5dee8-153b-4464-b003-6c1eaa24b533",
   "metadata": {},
   "outputs": [
    {
     "name": "stdout",
     "output_type": "stream",
     "text": [
      "manish 25\n",
      "shubam 20\n",
      "govindh 30\n"
     ]
    },
    {
     "data": {
      "text/plain": [
       "(['manish', 'shubam', 'govindh'], [25, 20, 30])"
      ]
     },
     "execution_count": 62,
     "metadata": {},
     "output_type": "execute_result"
    }
   ],
   "source": [
    "keys,values=[],[]\n",
    "for i,j in d.items():\n",
    "    print(i,j)\n",
    "    keys.append(i)\n",
    "    values.append(j)\n",
    "keys,values"
   ]
  },
  {
   "cell_type": "code",
   "execution_count": 71,
   "id": "f8bde17f-8d83-49b7-b61e-d55aabbc9a80",
   "metadata": {},
   "outputs": [
    {
     "data": {
      "text/plain": [
       "{'manish': 25, 'shubam': 20, 'govindh': 30}"
      ]
     },
     "execution_count": 71,
     "metadata": {},
     "output_type": "execute_result"
    }
   ],
   "source": [
    "d={'manish':25,'shubam':20,'govindh':30}\n",
    "d\n",
    "#d.clear()\n",
    "d.copy()\n",
    "#dir({})"
   ]
  },
  {
   "cell_type": "code",
   "execution_count": null,
   "id": "3231d79c-96c8-46c7-a409-9ef31eb3d04d",
   "metadata": {},
   "outputs": [],
   "source": []
  },
  {
   "cell_type": "code",
   "execution_count": null,
   "id": "194ededa-8b7a-44fc-b88b-8e56c9d53d2b",
   "metadata": {},
   "outputs": [],
   "source": []
  },
  {
   "cell_type": "code",
   "execution_count": null,
   "id": "b68ea12e-af6b-466f-a629-97d10244427b",
   "metadata": {},
   "outputs": [],
   "source": []
  },
  {
   "cell_type": "code",
   "execution_count": null,
   "id": "1270683b-4ef0-4bbe-b823-f31d054f6868",
   "metadata": {},
   "outputs": [],
   "source": []
  },
  {
   "cell_type": "code",
   "execution_count": null,
   "id": "125987e2-04bb-41d9-aa4e-43bbd29e64a6",
   "metadata": {},
   "outputs": [],
   "source": []
  },
  {
   "cell_type": "code",
   "execution_count": null,
   "id": "18a77206-eb06-4617-87c2-8f012b9ed9a9",
   "metadata": {},
   "outputs": [],
   "source": []
  },
  {
   "cell_type": "code",
   "execution_count": null,
   "id": "5a34d78a-c935-4a4d-96b7-04b45e28428a",
   "metadata": {},
   "outputs": [],
   "source": []
  },
  {
   "cell_type": "code",
   "execution_count": null,
   "id": "04c0428b-2134-4b54-bff3-d52b4aedd295",
   "metadata": {},
   "outputs": [],
   "source": []
  },
  {
   "cell_type": "code",
   "execution_count": null,
   "id": "a513b228-8bef-4c27-a76a-036bd9d1339e",
   "metadata": {},
   "outputs": [],
   "source": []
  },
  {
   "cell_type": "code",
   "execution_count": null,
   "id": "fa8ce0dd-2868-466a-bd61-d13887c67efe",
   "metadata": {},
   "outputs": [],
   "source": []
  },
  {
   "cell_type": "code",
   "execution_count": null,
   "id": "ec05376d-7003-448a-b5ab-be09942e2fb1",
   "metadata": {},
   "outputs": [],
   "source": []
  },
  {
   "cell_type": "code",
   "execution_count": null,
   "id": "26150fdc-021e-43b0-81c6-6cc01b1cd4ce",
   "metadata": {},
   "outputs": [],
   "source": []
  }
 ],
 "metadata": {
  "kernelspec": {
   "display_name": "Python 3 (ipykernel)",
   "language": "python",
   "name": "python3"
  },
  "language_info": {
   "codemirror_mode": {
    "name": "ipython",
    "version": 3
   },
   "file_extension": ".py",
   "mimetype": "text/x-python",
   "name": "python",
   "nbconvert_exporter": "python",
   "pygments_lexer": "ipython3",
   "version": "3.11.7"
  }
 },
 "nbformat": 4,
 "nbformat_minor": 5
}
