{
 "cells": [
  {
   "cell_type": "markdown",
   "id": "d22d57e9-700b-4744-9d1c-6694cca9dc70",
   "metadata": {},
   "source": [
    "**Lambda functions**\n",
    "\n",
    "- Lambda functions represents function concept\n",
    "\n",
    "- But we can write in a single line\n",
    "\n",
    "- Like list comprehension,lambda functions similar only\n",
    "\n",
    "- It will decrease the time complexity\n",
    "\n",
    "- always remember if we use many for loops or many conditions using multiple line, the time\n",
    "\n",
    "- compexity willincrease "
   ]
  },
  {
   "cell_type": "code",
   "execution_count": null,
   "id": "76d227e8-2b94-4a86-bbb3-a8d446404436",
   "metadata": {},
   "outputs": [],
   "source": [
    "**syntax**\n",
    "\n",
    "- it will use a keyword lambda\n",
    "\n",
    "# lambda <arguments>:<expression> "
   ]
  },
  {
   "cell_type": "code",
   "execution_count": 3,
   "id": "76be344d-1cc2-42c5-bb38-fe7f3d3e37bb",
   "metadata": {},
   "outputs": [
    {
     "data": {
      "text/plain": [
       "20"
      ]
     },
     "execution_count": 3,
     "metadata": {},
     "output_type": "execute_result"
    }
   ],
   "source": [
    "def sum(n):\n",
    "    return(n+10)\n",
    "sum(10)"
   ]
  },
  {
   "cell_type": "markdown",
   "id": "6b32671f-b732-4c95-a207-d71c7aa1bb60",
   "metadata": {},
   "source": [
    "$pattern-1$\n",
    "\n",
    "**Function with only one argment**\n",
    "\n",
    "- function name\n",
    "\n",
    "- argument name\n",
    "\n",
    "- return output"
   ]
  },
  {
   "cell_type": "code",
   "execution_count": null,
   "id": "28ecbe6e-65f3-4dfa-9359-eeeaa7a7c1ed",
   "metadata": {},
   "outputs": [],
   "source": [
    "# syntax: <function name>= lambda <argument name>: <return output>\n",
    "def sum(n):\n",
    "    return(n+10)\n",
    "sum(10)\n",
    "\n",
    "# fnction name=sum\n",
    "\n",
    "#arument name=n\n",
    "\n",
    "#retrn output=n+10\n",
    "\n"
   ]
  },
  {
   "cell_type": "code",
   "execution_count": 5,
   "id": "e790f035-6876-4239-ab2f-e95cb26f8a51",
   "metadata": {},
   "outputs": [
    {
     "data": {
      "text/plain": [
       "110"
      ]
     },
     "execution_count": 5,
     "metadata": {},
     "output_type": "execute_result"
    }
   ],
   "source": [
    "sum=lambda n:n+10\n",
    "sum(100)"
   ]
  },
  {
   "cell_type": "code",
   "execution_count": 7,
   "id": "e7d0f27e-fe2e-4221-9040-fde12d9f9d72",
   "metadata": {},
   "outputs": [
    {
     "data": {
      "text/plain": [
       "1000"
      ]
     },
     "execution_count": 7,
     "metadata": {},
     "output_type": "execute_result"
    }
   ],
   "source": [
    "def cube(n):\n",
    "    return(n**3)\n",
    "cube(10)"
   ]
  },
  {
   "cell_type": "code",
   "execution_count": 9,
   "id": "b9228b36-8987-4488-ab50-6946e90c6c98",
   "metadata": {},
   "outputs": [
    {
     "data": {
      "text/plain": [
       "1000"
      ]
     },
     "execution_count": 9,
     "metadata": {},
     "output_type": "execute_result"
    }
   ],
   "source": [
    "cube=lambda n:n**3\n",
    "cube(10)"
   ]
  },
  {
   "cell_type": "code",
   "execution_count": 10,
   "id": "b868a90c-ce23-4b65-877a-637056b5cf76",
   "metadata": {},
   "outputs": [
    {
     "data": {
      "text/plain": [
       "-8"
      ]
     },
     "execution_count": 10,
     "metadata": {},
     "output_type": "execute_result"
    }
   ],
   "source": [
    "def sub(n):\n",
    "    return(n-10)\n",
    "sub(2)"
   ]
  },
  {
   "cell_type": "code",
   "execution_count": 11,
   "id": "ca0237a6-c995-49eb-97a1-630951ca71ed",
   "metadata": {},
   "outputs": [
    {
     "data": {
      "text/plain": [
       "-8"
      ]
     },
     "execution_count": 11,
     "metadata": {},
     "output_type": "execute_result"
    }
   ],
   "source": [
    "sub=lambda n:n-10\n",
    "sub(2)"
   ]
  },
  {
   "cell_type": "markdown",
   "id": "b73838d3-ea79-4281-b31e-4b19b6cf6001",
   "metadata": {},
   "source": [
    "$pattern-2$\n",
    "\n",
    "- Twoargments"
   ]
  },
  {
   "cell_type": "code",
   "execution_count": 12,
   "id": "6cdb1d48-db7e-4e00-999d-401bc81b1122",
   "metadata": {},
   "outputs": [
    {
     "data": {
      "text/plain": [
       "30"
      ]
     },
     "execution_count": 12,
     "metadata": {},
     "output_type": "execute_result"
    }
   ],
   "source": [
    "# syntax : <functon name>=lambda <argument1>,<argument2>:<return output>\n",
    "def add(a,b):\n",
    "    return(a+b)\n",
    "add(10,20)\n",
    "#function name=add\n",
    "#argemnts names =a,b\n",
    "#return output =a+b"
   ]
  },
  {
   "cell_type": "code",
   "execution_count": 13,
   "id": "cd01507c-926e-432d-9e7e-6bc5141d0bfd",
   "metadata": {},
   "outputs": [
    {
     "data": {
      "text/plain": [
       "30"
      ]
     },
     "execution_count": 13,
     "metadata": {},
     "output_type": "execute_result"
    }
   ],
   "source": [
    "add=lambda a,b:a+b\n",
    "add(10,20)"
   ]
  },
  {
   "cell_type": "code",
   "execution_count": 15,
   "id": "8cd8327a-4c63-4809-981c-56ec1ccc707f",
   "metadata": {},
   "outputs": [
    {
     "data": {
      "text/plain": [
       "20.0"
      ]
     },
     "execution_count": 15,
     "metadata": {},
     "output_type": "execute_result"
    }
   ],
   "source": [
    "def avg(a,b):\n",
    "    return((a+b)/2)\n",
    "avg(20,20)"
   ]
  },
  {
   "cell_type": "code",
   "execution_count": 17,
   "id": "52070b33-6db7-49d5-9469-9198dd7d0a86",
   "metadata": {},
   "outputs": [
    {
     "data": {
      "text/plain": [
       "20.0"
      ]
     },
     "execution_count": 17,
     "metadata": {},
     "output_type": "execute_result"
    }
   ],
   "source": [
    "avg=lambda a,b:round((a+b)/2,2)\n",
    "avg(20,20)"
   ]
  },
  {
   "cell_type": "code",
   "execution_count": 18,
   "id": "66c84ee6-9a1c-4f5f-b244-dd372f68f76f",
   "metadata": {},
   "outputs": [
    {
     "data": {
      "text/plain": [
       "120"
      ]
     },
     "execution_count": 18,
     "metadata": {},
     "output_type": "execute_result"
    }
   ],
   "source": [
    "def add(a,b,c):\n",
    "    return(a+b+c)\n",
    "add(20,40,60)"
   ]
  },
  {
   "cell_type": "code",
   "execution_count": 22,
   "id": "47e44c92-ce84-48a1-bfe2-39dee0fe30f0",
   "metadata": {},
   "outputs": [
    {
     "data": {
      "text/plain": [
       "(40, 2)"
      ]
     },
     "execution_count": 22,
     "metadata": {},
     "output_type": "execute_result"
    }
   ],
   "source": [
    "def avg(a,b,c):\n",
    "    return(round((a+b+c)/3),2)\n",
    "avg(20,40,60)"
   ]
  },
  {
   "cell_type": "markdown",
   "id": "8561641c-489e-4dbb-867a-477c2504c4ae",
   "metadata": {},
   "source": [
    "$pattern-3$\n",
    "\n",
    "- deault arguments "
   ]
  },
  {
   "cell_type": "code",
   "execution_count": 27,
   "id": "68690587-1a98-4fd5-b56f-de01559bfc7f",
   "metadata": {},
   "outputs": [
    {
     "data": {
      "text/plain": [
       "80.67"
      ]
     },
     "execution_count": 27,
     "metadata": {},
     "output_type": "execute_result"
    }
   ],
   "source": [
    "avg=lambda a,b,c:round((a+b+c)/3,2)\n",
    "avg(10,202,30)"
   ]
  },
  {
   "cell_type": "code",
   "execution_count": 28,
   "id": "50a754d7-8c73-49e6-9f46-9bba90d0bf6b",
   "metadata": {},
   "outputs": [
    {
     "data": {
      "text/plain": [
       "20.0"
      ]
     },
     "execution_count": 28,
     "metadata": {},
     "output_type": "execute_result"
    }
   ],
   "source": [
    "avg=lambda a,b,c=30:round((a+b+c)/3,2)\n",
    "avg(10,20)"
   ]
  },
  {
   "cell_type": "markdown",
   "id": "270d20c3-0774-4410-80ef-1e89379e5ca5",
   "metadata": {},
   "source": [
    "**pattern-4**\n",
    "\n",
    "**if-else**"
   ]
  },
  {
   "cell_type": "code",
   "execution_count": 29,
   "id": "f651f4f9-7fa4-4a9a-b2b9-7dbcd897f3cc",
   "metadata": {},
   "outputs": [
    {
     "data": {
      "text/plain": [
       "2"
      ]
     },
     "execution_count": 29,
     "metadata": {},
     "output_type": "execute_result"
    }
   ],
   "source": [
    "def max(a,b):\n",
    "    if a>b:\n",
    "        return(a)\n",
    "    else:\n",
    "        return(b)\n",
    "max(1,2)"
   ]
  },
  {
   "cell_type": "code",
   "execution_count": 30,
   "id": "af0d42f7-037a-4ee1-b79c-e52741fecd8d",
   "metadata": {},
   "outputs": [
    {
     "data": {
      "text/plain": [
       "40"
      ]
     },
     "execution_count": 30,
     "metadata": {},
     "output_type": "execute_result"
    }
   ],
   "source": [
    "# syntax:function name=lambda <arg1>,<arg2>:<list comprehension>\n",
    "#syntax:function name=lambda <arg1>,<arg2>:<if_out><if_con><else><else_out>\n",
    "\n",
    "max=lambda a,b:a if a>b else b\n",
    "max(40,20)"
   ]
  },
  {
   "cell_type": "code",
   "execution_count": 31,
   "id": "3f168ea0-13c3-4e95-9448-343e9d484216",
   "metadata": {},
   "outputs": [
    {
     "data": {
      "text/plain": [
       "10"
      ]
     },
     "execution_count": 31,
     "metadata": {},
     "output_type": "execute_result"
    }
   ],
   "source": [
    "def min(a,b):\n",
    "    if a<b:\n",
    "        return(a)\n",
    "    else:\n",
    "        return(b)\n",
    "min(10,20)"
   ]
  },
  {
   "cell_type": "code",
   "execution_count": 32,
   "id": "2c56d95a-5b56-470b-a8aa-9d1b88289d5e",
   "metadata": {},
   "outputs": [
    {
     "data": {
      "text/plain": [
       "10"
      ]
     },
     "execution_count": 32,
     "metadata": {},
     "output_type": "execute_result"
    }
   ],
   "source": [
    "min=lambda a,b:a if a<b else b\n",
    "min(10,20)"
   ]
  },
  {
   "cell_type": "markdown",
   "id": "9623501d-1d35-4627-8e8a-3480d10f625a",
   "metadata": {},
   "source": [
    "**pattern-5**\n",
    "\n",
    "**using list**"
   ]
  },
  {
   "cell_type": "code",
   "execution_count": 33,
   "id": "b6c75907-51af-46a3-9468-15fe8d740e33",
   "metadata": {},
   "outputs": [
    {
     "data": {
      "text/plain": [
       "['Hyd', 'Chennai', 'Mumbai']"
      ]
     },
     "execution_count": 33,
     "metadata": {},
     "output_type": "execute_result"
    }
   ],
   "source": [
    "l=['hyd','chennai','mumbai']\n",
    "#op=['Hyd','Chennai','Mumbai']\n",
    "op=[]\n",
    "for i in l:\n",
    "    op.append(i.capitalize())\n",
    "op"
   ]
  },
  {
   "cell_type": "code",
   "execution_count": 34,
   "id": "23f591b6-9b99-4fac-933a-bf9105e3b6ca",
   "metadata": {},
   "outputs": [
    {
     "ename": "SyntaxError",
     "evalue": "invalid syntax (2273265115.py, line 1)",
     "output_type": "error",
     "traceback": [
      "\u001b[1;36m  Cell \u001b[1;32mIn[34], line 1\u001b[1;36m\u001b[0m\n\u001b[1;33m    lambda <variable>:<op>\u001b[0m\n\u001b[1;37m           ^\u001b[0m\n\u001b[1;31mSyntaxError\u001b[0m\u001b[1;31m:\u001b[0m invalid syntax\n"
     ]
    }
   ],
   "source": [
    "lambda <variable>:<op>\n",
    "#variable:i\n",
    "#op:i.capitalize()\n",
    "lambda <variable>:<op>,<iterator>\n",
    "#<iterator>:list\n",
    "lambda i:i.capitalize(),l\n"
   ]
  },
  {
   "cell_type": "markdown",
   "id": "519a619a-fe62-4ac4-9755-7f3ea15f52c1",
   "metadata": {},
   "source": [
    "**map**\n",
    "\n",
    "- the fncton and iterator are available now\n",
    "\n",
    "- we need to map both"
   ]
  },
  {
   "cell_type": "code",
   "execution_count": 37,
   "id": "ea97d151-4d3f-4e41-a759-05d9ee8e7789",
   "metadata": {},
   "outputs": [
    {
     "data": {
      "text/plain": [
       "(<function __main__.<lambda>(i)>, ['hyd', 'chennai', 'mumbai'])"
      ]
     },
     "execution_count": 37,
     "metadata": {},
     "output_type": "execute_result"
    }
   ],
   "source": [
    "lambda i:i.capitalize(),l\n"
   ]
  },
  {
   "cell_type": "code",
   "execution_count": 38,
   "id": "7fa9095e-92fc-4ea7-a41e-2d9bec6a5b14",
   "metadata": {},
   "outputs": [
    {
     "data": {
      "text/plain": [
       "<map at 0x232f99ef550>"
      ]
     },
     "execution_count": 38,
     "metadata": {},
     "output_type": "execute_result"
    }
   ],
   "source": [
    "l=['hyd','chennai','mumbai']\n",
    "map(lambda i:i.capitalize(),l)"
   ]
  },
  {
   "cell_type": "code",
   "execution_count": 39,
   "id": "9c5cc1f2-562a-43b0-b72e-12da2fd8b332",
   "metadata": {},
   "outputs": [
    {
     "data": {
      "text/plain": [
       "['Hyd', 'Chennai', 'Mumbai']"
      ]
     },
     "execution_count": 39,
     "metadata": {},
     "output_type": "execute_result"
    }
   ],
   "source": [
    "#apply the list to see the values\n",
    "l=['hyd','chennai','mumbai']\n",
    "list(map(lambda i:i.capitalize(),l))"
   ]
  },
  {
   "cell_type": "code",
   "execution_count": 2,
   "id": "15424580-3efa-4250-bad3-c23a85598f8d",
   "metadata": {},
   "outputs": [
    {
     "ename": "SyntaxError",
     "evalue": "invalid syntax (3720365279.py, line 4)",
     "output_type": "error",
     "traceback": [
      "\u001b[1;36m  Cell \u001b[1;32mIn[2], line 4\u001b[1;36m\u001b[0m\n\u001b[1;33m    lambda <variable>:<expression>\u001b[0m\n\u001b[1;37m           ^\u001b[0m\n\u001b[1;31mSyntaxError\u001b[0m\u001b[1;31m:\u001b[0m invalid syntax\n"
     ]
    }
   ],
   "source": [
    "l=['hyd','chennai','mmbai']\n",
    "#op=['Hyd','Chennai','Mumbai']\n",
    "op=[]\n",
    "lambda <variable>:<expression>\n",
    "lambda i:i.capitalize(),l\n",
    "map(lambda i:i.capitalize(),l)"
   ]
  },
  {
   "cell_type": "code",
   "execution_count": 3,
   "id": "e55938eb-b238-4afc-bf54-61ff2c1d7a39",
   "metadata": {},
   "outputs": [
    {
     "data": {
      "text/plain": [
       "<map at 0x206968af130>"
      ]
     },
     "execution_count": 3,
     "metadata": {},
     "output_type": "execute_result"
    }
   ],
   "source": [
    "l=['hyd','chennai','mmbai']\n",
    "map(lambda i:i.capitalize(),l)"
   ]
  },
  {
   "cell_type": "code",
   "execution_count": 4,
   "id": "bf8e5348-7b1d-4df3-9ba8-265304f0910a",
   "metadata": {},
   "outputs": [
    {
     "data": {
      "text/plain": [
       "['Hyd', 'Chennai', 'Mmbai']"
      ]
     },
     "execution_count": 4,
     "metadata": {},
     "output_type": "execute_result"
    }
   ],
   "source": [
    "l=['hyd','chennai','mmbai']\n",
    "list(map(lambda i:i.capitalize(),l))"
   ]
  },
  {
   "cell_type": "code",
   "execution_count": 5,
   "id": "566f8248-56e7-421b-b13f-8ef9a6330569",
   "metadata": {},
   "outputs": [
    {
     "data": {
      "text/plain": [
       "('Hyd', 'Chennai', 'Mmbai')"
      ]
     },
     "execution_count": 5,
     "metadata": {},
     "output_type": "execute_result"
    }
   ],
   "source": [
    "l=['hyd','chennai','mmbai']\n",
    "tuple(map(lambda i:i.capitalize(),l))"
   ]
  },
  {
   "cell_type": "code",
   "execution_count": 6,
   "id": "539dbee5-276a-4fe4-abc1-e2c260bc76e4",
   "metadata": {},
   "outputs": [
    {
     "ename": "SyntaxError",
     "evalue": "invalid syntax (2312130331.py, line 1)",
     "output_type": "error",
     "traceback": [
      "\u001b[1;36m  Cell \u001b[1;32mIn[6], line 1\u001b[1;36m\u001b[0m\n\u001b[1;33m    lambda <variable>:<expression>\u001b[0m\n\u001b[1;37m           ^\u001b[0m\n\u001b[1;31mSyntaxError\u001b[0m\u001b[1;31m:\u001b[0m invalid syntax\n"
     ]
    }
   ],
   "source": [
    "lambda <variable>:<expression>\n",
    "lambda i:i.capitalize()\n",
    "lambda i:i.capitalize(),l\n",
    "map(lambda i:i.capitalize(),l)\n",
    "list(lambda i:i.capitalize(),l)"
   ]
  },
  {
   "cell_type": "code",
   "execution_count": null,
   "id": "bed6dcaf-3165-41b3-8609-c7fad55a6a36",
   "metadata": {},
   "outputs": [],
   "source": [
    "#step-1:write your normal expression\n",
    "#           ex:lambda <variable>:<op>===>lambda i:i.capitalize()\n",
    "#step-2:add the iterator\n",
    "#       ex:lambda <var>:<op>,<list>====>lambda i:i.capitalize(),list1\n",
    "#step-3:map the both\n",
    "#         ex:map(lambda <var>:<op>.<list>)===>map(lambda i:i.capitalize(),l)\n",
    "#step-4:save the vales in a list,\n",
    "#ex:list(map(lambda <var>:<op>,<list>))====>list(map(lambda i:i.capitalize(),list))\n",
    "\n",
    "\n",
    "#note: those who are getting list object not callable use tuple"
   ]
  },
  {
   "cell_type": "code",
   "execution_count": null,
   "id": "ce9ef8b7-fc9f-4fe2-83c0-11eb83d73b0f",
   "metadata": {},
   "outputs": [],
   "source": [
    "- case-1:function call with only one argument\n",
    "      -lambda <argments>:<expression>\n",
    "\n",
    "      -lambda variables: return output\n",
    "\n",
    "- case-2:function call with two argments\n",
    "\n",
    "       -lambda <arg1>,<arg2>:<expression>\n",
    "\n",
    "       -lambda var1,var2:return out put\n",
    "- case-3:function call with default argments \n",
    "\n",
    "        -lambda <ar1>,<arg2=500>:<expression>\n",
    "\n",
    "        -lambda var1,var2=500:return output\n",
    "- case-4:function call with if-else\n",
    "        -lambda arg1,arg2:expression\n",
    "      \n",
    "\n",
    "        -lambda arg:if_out if_con else else_out for_loop\n",
    "- case-5:lambda operations using list\n",
    "        - lambda arg:expresion,iterator\n",
    "\n",
    "        -map(lambda arg:operation,iterator)\n",
    "\n",
    "        -list(map(lambda arg:operation,iterator))\n"
   ]
  },
  {
   "cell_type": "code",
   "execution_count": 9,
   "id": "32d85ba5-91b0-4a1e-8680-3e3280629851",
   "metadata": {},
   "outputs": [
    {
     "name": "stdout",
     "output_type": "stream",
     "text": [
      "HYD\n",
      "CHENNAI\n",
      "MUMBAI\n"
     ]
    },
    {
     "data": {
      "text/plain": [
       "['HYD', 'CHENNAI', 'MUMBAI']"
      ]
     },
     "execution_count": 9,
     "metadata": {},
     "output_type": "execute_result"
    }
   ],
   "source": [
    "l=['hyd','chennai','mumbai']\n",
    "#op=['HYD','CHENNAI','MMBAI']\n",
    "for i in l:\n",
    "    print(i.upper())\n",
    "lambda i:i.upper()\n",
    "lambda i:i.upper(),l\n",
    "map(lambda i:i.upper(),l)\n",
    "list(map(lambda i:i.upper(),l))\n"
   ]
  },
  {
   "cell_type": "code",
   "execution_count": 12,
   "id": "7bdfdffa-dd23-4aec-b4a8-6feecdd0ebb5",
   "metadata": {},
   "outputs": [
    {
     "name": "stdout",
     "output_type": "stream",
     "text": [
      "hyd\n",
      "chennai\n",
      "mumbai\n"
     ]
    },
    {
     "data": {
      "text/plain": [
       "['hyd', 'chennai', 'mumbai']"
      ]
     },
     "execution_count": 12,
     "metadata": {},
     "output_type": "execute_result"
    }
   ],
   "source": [
    "l=['HYD','CHENNAI','MUMBAI']\n",
    "#op=['hyd','chennai','mumbai']\n",
    "for i in l:\n",
    "    print(i.lower())\n",
    "#lambda <arg>:ex\n",
    "#lambda <var>:ot\n",
    "lambda i:i.lower()\n",
    "lambda i:i.lower(),l\n",
    "map(lambda i:i.lower(),l)\n",
    "list(map(lambda i:i.lower(),l))"
   ]
  },
  {
   "cell_type": "markdown",
   "id": "2bfbb9fa-0066-45bf-be07-639851f2dc61",
   "metadata": {},
   "source": [
    "**Filter**\n",
    "\n",
    "- whenever if conditions are there use filter"
   ]
  },
  {
   "cell_type": "code",
   "execution_count": 25,
   "id": "a3c58327-e0b2-4fc5-922a-d26d78b2cb3c",
   "metadata": {},
   "outputs": [
    {
     "name": "stdout",
     "output_type": "stream",
     "text": [
      "chenna#i\n",
      "mm#bai\n"
     ]
    },
    {
     "data": {
      "text/plain": [
       "['chenna#i', 'mm#bai']"
      ]
     },
     "execution_count": 25,
     "metadata": {},
     "output_type": "execute_result"
    }
   ],
   "source": [
    "l=['hyd','chenna#i','mm#bai']\n",
    "#op=['chenna#i','mm#bai']\n",
    "for i in l:\n",
    "    if '#' in i:\n",
    "        print(i)\n",
    "#lambda <arg>:expre\n",
    "#lambda <var>:ot\n",
    "lambda i: '#' in i\n",
    "#mistake-1:lambda i:if '#' in i,\n",
    "#       do not write  if\n",
    "lambda i: '#' in i,l\n",
    "map(lambda i: '#' in i,l)\n",
    "list(map(lambda i: '#' in i,l))\n",
    "list(filter(lambda i: '#' in i,l))"
   ]
  },
  {
   "cell_type": "code",
   "execution_count": 26,
   "id": "151cc795-bf57-4950-a0cc-7629be01ade0",
   "metadata": {},
   "outputs": [
    {
     "name": "stdout",
     "output_type": "stream",
     "text": [
      "rani\n",
      "rena\n",
      "ricky\n"
     ]
    },
    {
     "data": {
      "text/plain": [
       "['rani', 'rena', 'ricky']"
      ]
     },
     "execution_count": 26,
     "metadata": {},
     "output_type": "execute_result"
    }
   ],
   "source": [
    "l=['rani','rena','ricky']\n",
    "#op=['rani','rena','ricky']\n",
    "for i in l:\n",
    "    if 'r' in i:\n",
    "        print(i)\n",
    "list(map(lambda i :'r' in i,l))\n",
    "list(filter(lambda i :'r' in i,l))"
   ]
  },
  {
   "cell_type": "code",
   "execution_count": 31,
   "id": "8ed6f23a-19d7-4760-b68a-0e2d4441e93a",
   "metadata": {},
   "outputs": [
    {
     "name": "stdout",
     "output_type": "stream",
     "text": [
      "2\n",
      "6\n"
     ]
    },
    {
     "data": {
      "text/plain": [
       "[2, 6]"
      ]
     },
     "execution_count": 31,
     "metadata": {},
     "output_type": "execute_result"
    }
   ],
   "source": [
    "n=[1,3,2,7,6]\n",
    "#op=[2,6]\n",
    "for i in n:\n",
    "    if i%2==0:\n",
    "        print(i)\n",
    "\n",
    "list(map(lambda i :i%2==0,n))\n",
    "list(filter(lambda i :i%2==0,n))"
   ]
  },
  {
   "cell_type": "code",
   "execution_count": null,
   "id": "61ed9e5f-1888-432c-b62f-1f7d8e8c5a85",
   "metadata": {},
   "outputs": [],
   "source": [
    "**Reduce**\n",
    "\n",
    "- All inbuilt unctions can achive by reduse\n",
    "\n",
    "- reduse is available from functiontools package\n",
    "\n",
    "- level-1:reduce(lambda summ,i:summ+i,l1)\n",
    "\n",
    "- level-2:reduse(lambda summ,i:summ+i,l1,initial_value)\n",
    "\n",
    "- for example we want initialize smm=0 then we choose level-1\n",
    "\n",
    "- for example we want to start with other than zero then we choose level-2"
   ]
  },
  {
   "cell_type": "code",
   "execution_count": 33,
   "id": "ca90cd75-a732-41ee-b386-1de415f383f8",
   "metadata": {},
   "outputs": [
    {
     "name": "stdout",
     "output_type": "stream",
     "text": [
      "15\n"
     ]
    }
   ],
   "source": [
    "l1=[1,2,3,4,5]\n",
    "#i want sum of the elements in alist\n",
    "\n",
    "#method-1:sum\n",
    "sum(l1)\n",
    "#method-2:without sum\n",
    "sum=0\n",
    "for i in l1:\n",
    "    sum=sum+i\n",
    "print(sum)\n"
   ]
  },
  {
   "cell_type": "code",
   "execution_count": 45,
   "id": "1223544d-10ce-45d8-a9e7-8e9ddaef94e1",
   "metadata": {},
   "outputs": [
    {
     "name": "stdout",
     "output_type": "stream",
     "text": [
      "15\n"
     ]
    },
    {
     "ename": "TypeError",
     "evalue": "<lambda>() missing 1 required positional argument: 'i'",
     "output_type": "error",
     "traceback": [
      "\u001b[1;31m---------------------------------------------------------------------------\u001b[0m",
      "\u001b[1;31mTypeError\u001b[0m                                 Traceback (most recent call last)",
      "Cell \u001b[1;32mIn[45], line 6\u001b[0m\n\u001b[0;32m      4\u001b[0m     summ\u001b[38;5;241m=\u001b[39msumm\u001b[38;5;241m+\u001b[39mi\n\u001b[0;32m      5\u001b[0m \u001b[38;5;28mprint\u001b[39m(summ)\n\u001b[1;32m----> 6\u001b[0m \u001b[38;5;28mlist\u001b[39m(\u001b[38;5;28mmap\u001b[39m(\u001b[38;5;28;01mlambda\u001b[39;00m summ,i:summ\u001b[38;5;241m+\u001b[39mi,l1))\n",
      "\u001b[1;31mTypeError\u001b[0m: <lambda>() missing 1 required positional argument: 'i'"
     ]
    }
   ],
   "source": [
    "summ=0\n",
    "l1=[1,2,3,4,5]\n",
    "for i in l1:\n",
    "    summ=summ+i\n",
    "print(summ)\n",
    "list(map(lambda summ,i:summ+i,l1))"
   ]
  },
  {
   "cell_type": "code",
   "execution_count": 46,
   "id": "dc123950-defd-4f39-8c4a-6574ff2479ad",
   "metadata": {},
   "outputs": [],
   "source": [
    "import functools\n"
   ]
  },
  {
   "cell_type": "code",
   "execution_count": 3,
   "id": "c997f68a-a1bb-4ec7-94d9-d74ff907171e",
   "metadata": {},
   "outputs": [
    {
     "ename": "NameError",
     "evalue": "name 'functools' is not defined",
     "output_type": "error",
     "traceback": [
      "\u001b[1;31m---------------------------------------------------------------------------\u001b[0m",
      "\u001b[1;31mNameError\u001b[0m                                 Traceback (most recent call last)",
      "Cell \u001b[1;32mIn[3], line 1\u001b[0m\n\u001b[1;32m----> 1\u001b[0m \u001b[38;5;28mdir\u001b[39m(functools)\n",
      "\u001b[1;31mNameError\u001b[0m: name 'functools' is not defined"
     ]
    }
   ],
   "source": [
    "dir(functools)"
   ]
  },
  {
   "cell_type": "code",
   "execution_count": 4,
   "id": "7767c30b-d92f-4a60-aa39-2a913ecc67ff",
   "metadata": {},
   "outputs": [
    {
     "data": {
      "text/plain": [
       "15"
      ]
     },
     "execution_count": 4,
     "metadata": {},
     "output_type": "execute_result"
    }
   ],
   "source": [
    "import functools\n",
    "l1=[1,2,3,4,5]\n",
    "functools.reduce(lambda summ,i:summ+i,l1)"
   ]
  },
  {
   "cell_type": "code",
   "execution_count": 5,
   "id": "ea15c52b-804f-4bf6-af30-fb73366fc617",
   "metadata": {},
   "outputs": [
    {
     "data": {
      "text/plain": [
       "15"
      ]
     },
     "execution_count": 5,
     "metadata": {},
     "output_type": "execute_result"
    }
   ],
   "source": [
    "from functools import reduce\n",
    "l1=[1,2,3,4,5]\n",
    "reduce(lambda summ,i:summ+i,l1)"
   ]
  },
  {
   "cell_type": "code",
   "execution_count": null,
   "id": "8ad713d5-e357-4899-8621-93046977c735",
   "metadata": {},
   "outputs": [],
   "source": []
  },
  {
   "cell_type": "code",
   "execution_count": null,
   "id": "b2bb0c11-30a4-47dc-aa59-e3ecec86186f",
   "metadata": {},
   "outputs": [],
   "source": [
    "import functools as ft\n",
    "ft.reduce(lambda summ,i:summ+i,l1)"
   ]
  },
  {
   "cell_type": "code",
   "execution_count": 6,
   "id": "f04de175-2b98-4861-9b0a-af4281150619",
   "metadata": {},
   "outputs": [
    {
     "data": {
      "text/plain": [
       "16"
      ]
     },
     "execution_count": 6,
     "metadata": {},
     "output_type": "execute_result"
    }
   ],
   "source": [
    "summ=1\n",
    "l1=[1,2,3,4,5]\n",
    "from functools import reduce\n",
    "functools.reduce(lambda summ,i:summ+i,l1,1)"
   ]
  },
  {
   "cell_type": "code",
   "execution_count": 7,
   "id": "4b0e1ee4-f3d4-4b77-bf9e-e48502e64dfe",
   "metadata": {},
   "outputs": [
    {
     "name": "stdout",
     "output_type": "stream",
     "text": [
      "22\n"
     ]
    },
    {
     "data": {
      "text/plain": [
       "22"
      ]
     },
     "execution_count": 7,
     "metadata": {},
     "output_type": "execute_result"
    }
   ],
   "source": [
    "summ=2\n",
    "import functools\n",
    "l1=[2,4,6,8]\n",
    "for i in l1:\n",
    "    summ=summ+i\n",
    "print(summ)\n",
    "functools.reduce(lambda summ,i:summ+i,l1,2)\n"
   ]
  },
  {
   "cell_type": "code",
   "execution_count": 9,
   "id": "ce171d2e-7d16-42f9-bdd9-5f53c65aebfc",
   "metadata": {},
   "outputs": [
    {
     "name": "stdout",
     "output_type": "stream",
     "text": [
      "23\n"
     ]
    },
    {
     "data": {
      "text/plain": [
       "23"
      ]
     },
     "execution_count": 9,
     "metadata": {},
     "output_type": "execute_result"
    }
   ],
   "source": [
    "sum=3\n",
    "import functools as ft\n",
    "l1=[4,6,8,2]\n",
    "for i in l1:\n",
    "    sum=sum+i\n",
    "print(sum)\n",
    "ft.reduce(lambda sum,i:sum+i,l1,3)\n",
    "    \n"
   ]
  },
  {
   "cell_type": "code",
   "execution_count": 10,
   "id": "14088c8a-e346-4b03-8e63-a36d061b3f37",
   "metadata": {},
   "outputs": [],
   "source": [
    "import functools"
   ]
  },
  {
   "cell_type": "code",
   "execution_count": 11,
   "id": "b740e0de-4276-4a32-9013-bbcf21fd0b1d",
   "metadata": {},
   "outputs": [
    {
     "data": {
      "text/plain": [
       "<module 'functools' from 'C:\\\\Users\\\\balas\\\\anaconda3\\\\Lib\\\\functools.py'>"
      ]
     },
     "execution_count": 11,
     "metadata": {},
     "output_type": "execute_result"
    }
   ],
   "source": [
    "functools"
   ]
  },
  {
   "cell_type": "code",
   "execution_count": null,
   "id": "478cd5d5-0562-4a0a-ac67-03dd0cbca896",
   "metadata": {},
   "outputs": [],
   "source": [
    "#maximum value using reduce\n",
    "#map:direct attack\n",
    "#filter:if conditions\n",
    "#reduce:\n",
    "\n",
    "#i want detailed word document with examples"
   ]
  },
  {
   "cell_type": "code",
   "execution_count": null,
   "id": "ca07baf6-7166-4644-bbd6-94189db5fd12",
   "metadata": {},
   "outputs": [],
   "source": []
  },
  {
   "cell_type": "code",
   "execution_count": null,
   "id": "727a3548-f5db-4150-8865-3c92275d11e9",
   "metadata": {},
   "outputs": [],
   "source": []
  },
  {
   "cell_type": "code",
   "execution_count": null,
   "id": "53a805c5-900f-4292-8769-ef5631d0a5ae",
   "metadata": {},
   "outputs": [],
   "source": []
  },
  {
   "cell_type": "code",
   "execution_count": null,
   "id": "538a6e97-25f9-4407-847e-d319cad4c252",
   "metadata": {},
   "outputs": [],
   "source": []
  },
  {
   "cell_type": "code",
   "execution_count": null,
   "id": "c35fa449-8d5f-4d00-bcf4-dd9f6d12f108",
   "metadata": {},
   "outputs": [],
   "source": []
  }
 ],
 "metadata": {
  "kernelspec": {
   "display_name": "Python 3 (ipykernel)",
   "language": "python",
   "name": "python3"
  },
  "language_info": {
   "codemirror_mode": {
    "name": "ipython",
    "version": 3
   },
   "file_extension": ".py",
   "mimetype": "text/x-python",
   "name": "python",
   "nbconvert_exporter": "python",
   "pygments_lexer": "ipython3",
   "version": "3.11.7"
  }
 },
 "nbformat": 4,
 "nbformat_minor": 5
}
