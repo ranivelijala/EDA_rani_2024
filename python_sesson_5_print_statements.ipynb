{
 "cells": [
  {
   "cell_type": "code",
   "execution_count": 1,
   "id": "42e5982b-63ba-4b4e-a8fe-8d79765c0d46",
   "metadata": {},
   "outputs": [
    {
     "name": "stdout",
     "output_type": "stream",
     "text": [
      "10\n"
     ]
    }
   ],
   "source": [
    "print(10)"
   ]
  },
  {
   "cell_type": "code",
   "execution_count": 2,
   "id": "1636a3f7-3a4e-438b-8697-f81b46330154",
   "metadata": {},
   "outputs": [
    {
     "name": "stdout",
     "output_type": "stream",
     "text": [
      "python\n"
     ]
    }
   ],
   "source": [
    "print('python')"
   ]
  },
  {
   "cell_type": "code",
   "execution_count": 3,
   "id": "08edc9e7-d4e2-4044-aa40-1c05a2e96bd5",
   "metadata": {},
   "outputs": [
    {
     "name": "stdout",
     "output_type": "stream",
     "text": [
      "10 20 30\n"
     ]
    }
   ],
   "source": [
    "print(10,20,30)"
   ]
  },
  {
   "cell_type": "code",
   "execution_count": 4,
   "id": "ccc53faa-b9d5-4b17-9413-ed88556b7c30",
   "metadata": {},
   "outputs": [
    {
     "name": "stdout",
     "output_type": "stream",
     "text": [
      "10 10.0 naresh True\n"
     ]
    }
   ],
   "source": [
    "print(10,10.,'naresh',True)"
   ]
  },
  {
   "cell_type": "code",
   "execution_count": 5,
   "id": "a1aa19fa-1035-4328-be6b-2b42acf4979f",
   "metadata": {},
   "outputs": [
    {
     "name": "stdout",
     "output_type": "stream",
     "text": [
      "10 20\n"
     ]
    }
   ],
   "source": [
    "n1=10\n",
    "n2=20\n",
    "print(n1,n2)"
   ]
  },
  {
   "cell_type": "code",
   "execution_count": 6,
   "id": "3cdd53ae-ed2c-4168-b114-530bb185ee24",
   "metadata": {},
   "outputs": [
    {
     "name": "stdout",
     "output_type": "stream",
     "text": [
      "10\n",
      "20\n"
     ]
    },
    {
     "data": {
      "text/plain": [
       "(None, None)"
      ]
     },
     "execution_count": 6,
     "metadata": {},
     "output_type": "execute_result"
    }
   ],
   "source": [
    "print(10),print(20)"
   ]
  },
  {
   "cell_type": "code",
   "execution_count": null,
   "id": "1d12f3bb-953a-4891-85a5-6335db730162",
   "metadata": {},
   "outputs": [],
   "source": [
    "print(10,20,30)\n",
    "print(10),print(20)"
   ]
  },
  {
   "cell_type": "markdown",
   "id": "ca448acc-17c8-40fb-af11-da62730dba9e",
   "metadata": {},
   "source": [
    "**note**\n",
    "\n",
    "- dont try to write print in horizontal write only vertically always\n",
    "\n",
    "- other wise write as print(10,20,30)"
   ]
  },
  {
   "cell_type": "code",
   "execution_count": 8,
   "id": "dd5a4785-f116-4230-9ed4-598f261973dc",
   "metadata": {},
   "outputs": [
    {
     "name": "stdout",
     "output_type": "stream",
     "text": [
      "the addition of 10 and 20 is 30\n",
      "the addition of 10 and 20 is 30\n"
     ]
    }
   ],
   "source": [
    "a=10\n",
    "b=20\n",
    "c=a+b\n",
    "c\n",
    "#the addition of 10 and 20 is 30\n",
    "print(\"the addition of 10 and 20 is 30\")\n",
    "print(\"the addition of\",a,\"and\",b,\"is\",c)\n"
   ]
  },
  {
   "cell_type": "code",
   "execution_count": 9,
   "id": "c81275df-47a2-4aad-a821-5b2504b34c0c",
   "metadata": {},
   "outputs": [
    {
     "name": "stdout",
     "output_type": "stream",
     "text": [
      "the addition of 10 and 20 is 30\n"
     ]
    }
   ],
   "source": [
    "print(\"the addition of {} and {} is {}\".format(a,b,c))"
   ]
  },
  {
   "cell_type": "code",
   "execution_count": 12,
   "id": "4d18eadf-9540-4008-aec1-013ad904f6b6",
   "metadata": {},
   "outputs": [
    {
     "name": "stdout",
     "output_type": "stream",
     "text": [
      "the addition of 100 and 200 and 300 and 600\n"
     ]
    }
   ],
   "source": [
    "x=100\n",
    "y=200\n",
    "z=300\n",
    "r=x+y+z\n",
    "print(\"the addition of {} and {} and {} and {}\".format(x,y,z,r))"
   ]
  },
  {
   "cell_type": "markdown",
   "id": "35212d97-ad6b-42e0-ac48-2de1aeb43e79",
   "metadata": {},
   "source": [
    "**format method**"
   ]
  },
  {
   "cell_type": "code",
   "execution_count": 14,
   "id": "cf97be0d-aee8-4abc-be42-9fcb002376d7",
   "metadata": {},
   "outputs": [],
   "source": [
    "#read your name \n",
    "#read your age\n",
    "#read your city\n",
    "#my name is python,im 10 years old im from hyd"
   ]
  },
  {
   "cell_type": "code",
   "execution_count": 16,
   "id": "c76e47b9-3833-438d-a028-0b923ed14885",
   "metadata": {},
   "outputs": [
    {
     "name": "stdout",
     "output_type": "stream",
     "text": [
      "my name is python,im 10 years old im from hyd\n"
     ]
    }
   ],
   "source": [
    "name='python' #what ever we want write value is it is integer write\n",
    "              #without quotes but it is sentence or word write  within the quotes\n",
    "age=10\n",
    "city='hyd'\n",
    "print(\"my name is {},im {} years old im from {}\".format(name,age,city))"
   ]
  },
  {
   "cell_type": "code",
   "execution_count": null,
   "id": "0e6ee5c1-b59a-45a1-95ca-ebf65c91c8d5",
   "metadata": {},
   "outputs": [],
   "source": [
    "#read your name\n",
    "#wt r u completed\n",
    "#wt do u want ur professon\n",
    "#my name is rani,im completed fullstack datascience,and i want in my profsson as data scientist\n"
   ]
  },
  {
   "cell_type": "code",
   "execution_count": 17,
   "id": "3ecb8a93-9f80-48f2-81e6-d71bebecfc51",
   "metadata": {},
   "outputs": [
    {
     "name": "stdout",
     "output_type": "stream",
     "text": [
      "my name is rani,im completed fsds,and i want to in my profession data scientist\n"
     ]
    }
   ],
   "source": [
    "name=\"rani\"\n",
    "study=\"fsds\"\n",
    "profession=\"data scientist\"\n",
    "print(\"my name is {},im completed {},and i want to in my profession {}\".format(name,study,profession))"
   ]
  },
  {
   "cell_type": "code",
   "execution_count": null,
   "id": "0b32fd0f-8d11-4afd-94da-24c7696357de",
   "metadata": {},
   "outputs": [],
   "source": [
    "#employee name\n",
    "#employee role\n",
    "#company\n"
   ]
  },
  {
   "cell_type": "code",
   "execution_count": 20,
   "id": "ee6cadcc-9ee1-408e-9a82-8c8992afa4d9",
   "metadata": {},
   "outputs": [
    {
     "name": "stdout",
     "output_type": "stream",
     "text": [
      "one employee in sotware her name is rani and she  is worked asdata scientist  in google\n"
     ]
    }
   ],
   "source": [
    "name='rani'\n",
    "role='data scientist'\n",
    "company='google'\n",
    "print(\"one employee in sotware her name is {} and she  is worked as{}  in {}\".format(name,role,company))"
   ]
  },
  {
   "cell_type": "markdown",
   "id": "c1944575-66c0-4f5c-a6cb-e22b9a93eae4",
   "metadata": {},
   "source": [
    "**f string**"
   ]
  },
  {
   "cell_type": "code",
   "execution_count": 22,
   "id": "1c417180-646d-4511-9490-c032e40a7be3",
   "metadata": {},
   "outputs": [
    {
     "name": "stdout",
     "output_type": "stream",
     "text": [
      "the additon of 100 and 200 is 300\n"
     ]
    }
   ],
   "source": [
    "a=100\n",
    "b=200\n",
    "c=a+b\n",
    "print(f\"the additon of {a} and {b} is {c}\")"
   ]
  },
  {
   "cell_type": "code",
   "execution_count": 24,
   "id": "7539e06c-3708-4a33-8cd1-efb7c790165f",
   "metadata": {},
   "outputs": [
    {
     "name": "stdout",
     "output_type": "stream",
     "text": [
      "the addition of 1and 2 is 3\n"
     ]
    }
   ],
   "source": [
    "x=1\n",
    "y=2\n",
    "z=x+y\n",
    "print(f\"the addition of {x}and {y} is {z}\")"
   ]
  },
  {
   "cell_type": "code",
   "execution_count": 27,
   "id": "70a3dada-ad05-4983-91e2-d745e5483c85",
   "metadata": {},
   "outputs": [
    {
     "name": "stdout",
     "output_type": "stream",
     "text": [
      "my cute brothers are shiva,laxman,prince,chintu\n"
     ]
    }
   ],
   "source": [
    "yelderbrother=\"shiva\"\n",
    "youngerbro=\"laxman\"\n",
    "smallbro=\"prince\"\n",
    "lastbro=\"chintu\"\n",
    "print(f\"my cute brothers are {yelderbrother},{youngerbro},{smallbro},{lastbro}\")"
   ]
  },
  {
   "cell_type": "code",
   "execution_count": 32,
   "id": "f25e98e1-eb24-4aa7-9bf0-f005d9775940",
   "metadata": {},
   "outputs": [
    {
     "name": "stdout",
     "output_type": "stream",
     "text": [
      "the average of 100 and 200 is:150.0\n",
      "the average of100 and 200 is:150.0\n"
     ]
    }
   ],
   "source": [
    "num1=100\n",
    "num2=200\n",
    "average=(num1+num2)/2\n",
    "#the average of 100 and 200 is :150\n",
    "print(\"the average of {} and {} is:{}\".format(num1,num2,average))\n",
    "print(f\"the average of{num1} and {num2} is:{average}\")"
   ]
  },
  {
   "cell_type": "code",
   "execution_count": 49,
   "id": "719bd663-26d3-46d1-b3f1-38abea222de9",
   "metadata": {},
   "outputs": [
    {
     "name": "stdout",
     "output_type": "stream",
     "text": [
      "area of the circle:31400.0\n",
      "area of the circle:31400.0\n"
     ]
    }
   ],
   "source": [
    "#take the radius of circle\n",
    "#take the pi value=3.14\n",
    "#find the area of the circle\n",
    "radius=100\n",
    "pi_value=3.14\n",
    "area=pi_value*radius*radius\n",
    "print(\"area of the circle:{}\".format(area))\n",
    "print(f\"area of the circle:{area}\")"
   ]
  },
  {
   "cell_type": "markdown",
   "id": "fd45a799-586c-4bc6-8a1b-21a890922ba2",
   "metadata": {},
   "source": [
    "\n",
    "- format spelling\n",
    "\n",
    "- brackets are not providing\n",
    "\n",
    "- you are keeping\n",
    "\n",
    "- for getting the quotes also"
   ]
  },
  {
   "cell_type": "code",
   "execution_count": 55,
   "id": "fe45f673-5a58-4a02-b601-bd277886e210",
   "metadata": {},
   "outputs": [
    {
     "name": "stdout",
     "output_type": "stream",
     "text": [
      "area of the triangle is:100.0\n"
     ]
    }
   ],
   "source": [
    "#take the base of triangle\n",
    "#take the height of the traingle\n",
    "#area of the triangle=1/2*base*height\n",
    "baseofthetriangle=10\n",
    "height=20\n",
    "area=1/2*baseofthetriangle*height\n",
    "print(\"area of the triangle is:{}\".format(area))"
   ]
  },
  {
   "cell_type": "code",
   "execution_count": 61,
   "id": "6362dc14-dd90-4131-b0c4-901517d5538a",
   "metadata": {},
   "outputs": [
    {
     "name": "stdout",
     "output_type": "stream",
     "text": [
      "tip amount is:100.0\n",
      "total bill is:1100.0\n"
     ]
    }
   ],
   "source": [
    "#take the bill_amount=1000\n",
    "#take the tip_percentage=10\n",
    "#calculate the tip amount\n",
    "#calculate the total bill\n",
    "#print the total bill\n",
    "bill_amount=1000\n",
    "tip_percentage=10\n",
    "tip_amount=bill_amount*tip_percentage/100\n",
    "total_bill=tip_amount+bill_amount\n",
    "print(\"tip amount is:{}\".format(tip_amount))\n",
    "\n",
    "print(f\"total bill is:{total_bill}\")"
   ]
  },
  {
   "cell_type": "code",
   "execution_count": 62,
   "id": "6099905d-d068-4a0a-9af3-c87329d373b8",
   "metadata": {},
   "outputs": [
    {
     "name": "stdout",
     "output_type": "stream",
     "text": [
      "10\n",
      "20\n"
     ]
    }
   ],
   "source": [
    "\n",
    "print(10)\n",
    "print(20)\n"
   ]
  },
  {
   "cell_type": "code",
   "execution_count": 63,
   "id": "97fb8ddb-6e56-4908-9185-9aabeda2eda9",
   "metadata": {},
   "outputs": [
    {
     "name": "stdout",
     "output_type": "stream",
     "text": [
      "10 20\n"
     ]
    }
   ],
   "source": [
    "print(10,20)"
   ]
  },
  {
   "cell_type": "markdown",
   "id": "a863d8c8-d573-4428-bf66-9a57e3c1d5fd",
   "metadata": {},
   "source": [
    "**end**\n",
    "\n",
    "- combining multiple print statements in a single line"
   ]
  },
  {
   "cell_type": "code",
   "execution_count": 67,
   "id": "faa48f37-f70a-4b97-973d-55eba11497c3",
   "metadata": {},
   "outputs": [
    {
     "name": "stdout",
     "output_type": "stream",
     "text": [
      "10 ,20\n"
     ]
    }
   ],
   "source": [
    "print(10,end=' ,')\n",
    "print(20)"
   ]
  },
  {
   "cell_type": "code",
   "execution_count": 70,
   "id": "9b7c8e83-30c8-4e79-babe-8083165566b5",
   "metadata": {},
   "outputs": [
    {
     "name": "stdout",
     "output_type": "stream",
     "text": [
      "10,20,30\n"
     ]
    }
   ],
   "source": [
    "print(10,end=',')\n",
    "print(20,end=',')\n",
    "print(30)"
   ]
  },
  {
   "cell_type": "markdown",
   "id": "a7584906-9b58-4492-8054-6d5dd26aed70",
   "metadata": {},
   "source": [
    "***sep***\n",
    "\n",
    "- seperate the multiple values in a single print statements"
   ]
  },
  {
   "cell_type": "code",
   "execution_count": 72,
   "id": "60b8da92-b885-40eb-b671-5e0923988d4a",
   "metadata": {},
   "outputs": [
    {
     "name": "stdout",
     "output_type": "stream",
     "text": [
      "10&20&30&40\n"
     ]
    }
   ],
   "source": [
    "print(10,20,30,40,sep='&')"
   ]
  },
  {
   "cell_type": "code",
   "execution_count": 73,
   "id": "f40a525c-6d47-4493-9cb5-3bd86d47c7cf",
   "metadata": {},
   "outputs": [
    {
     "name": "stdout",
     "output_type": "stream",
     "text": [
      "10--->20--->30\n"
     ]
    }
   ],
   "source": [
    "print(10,20,30,sep='--->')"
   ]
  },
  {
   "cell_type": "code",
   "execution_count": 74,
   "id": "b901ff09-d4ef-4f73-ba95-b12374b29028",
   "metadata": {},
   "outputs": [
    {
     "name": "stdout",
     "output_type": "stream",
     "text": [
      "the addition of5 and3 is8.\n"
     ]
    }
   ],
   "source": [
    "print(f\"the addition of{5} and{3} is{5+3}.\")"
   ]
  },
  {
   "cell_type": "code",
   "execution_count": 75,
   "id": "635f8491-6f1f-40a3-9cfe-dfd45ac375e8",
   "metadata": {},
   "outputs": [
    {
     "name": "stdout",
     "output_type": "stream",
     "text": [
      "the addition of5and3 is:8\n"
     ]
    }
   ],
   "source": [
    "print(\"the addition of{}and{} is:{}\".format(5,3,5+3))"
   ]
  },
  {
   "cell_type": "code",
   "execution_count": 76,
   "id": "95f85e72-45ba-4231-852d-678d160ba066",
   "metadata": {},
   "outputs": [
    {
     "name": "stdout",
     "output_type": "stream",
     "text": [
      "the addition of 5 and 3 is:8.\n"
     ]
    }
   ],
   "source": [
    "print(\"the addition of 5 and 3 is:8\",\".\",sep='')"
   ]
  },
  {
   "cell_type": "code",
   "execution_count": null,
   "id": "173e38a8-924e-4261-bc8e-058ac3284bbe",
   "metadata": {},
   "outputs": [],
   "source": []
  }
 ],
 "metadata": {
  "kernelspec": {
   "display_name": "Python 3 (ipykernel)",
   "language": "python",
   "name": "python3"
  },
  "language_info": {
   "codemirror_mode": {
    "name": "ipython",
    "version": 3
   },
   "file_extension": ".py",
   "mimetype": "text/x-python",
   "name": "python",
   "nbconvert_exporter": "python",
   "pygments_lexer": "ipython3",
   "version": "3.11.7"
  }
 },
 "nbformat": 4,
 "nbformat_minor": 5
}
