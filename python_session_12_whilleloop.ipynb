{
 "cells": [
  {
   "cell_type": "markdown",
   "id": "6c49707f-9a77-4e86-80dc-849f18c0e672",
   "metadata": {},
   "source": [
    "**loops**\n",
    "\n",
    "- For loop\n",
    "  \n",
    "- while loop:if u want to run  an  infinite iterations will choose whilw loop\n",
    "\n",
    "- Every loop we need three things \n",
    "\n",
    "    - Initial point (starting point)\n",
    "\n",
    "    - Increament or decreament\n",
    "\n",
    "    - condition(stop point)\n",
    "  \n"
   ]
  },
  {
   "cell_type": "code",
   "execution_count": null,
   "id": "6fbf830d-0f32-4902-a3cf-39042f97522a",
   "metadata": {},
   "outputs": [],
   "source": []
  },
  {
   "cell_type": "markdown",
   "id": "12060198-3487-4c0f-b051-b3b1c5a22349",
   "metadata": {},
   "source": [
    "- in for loop all three things mentioned  in asingle line :range(start,stop.step)\n",
    "\n",
    "- in while loop we will use these three in as a three lines\n",
    "\n",
    "-"
   ]
  },
  {
   "cell_type": "code",
   "execution_count": 1,
   "id": "c2e0a63d-e3f1-4f52-bca7-bd4ac02fb4aa",
   "metadata": {},
   "outputs": [
    {
     "ename": "SyntaxError",
     "evalue": "invalid syntax (927012775.py, line 1)",
     "output_type": "error",
     "traceback": [
      "\u001b[1;36m  Cell \u001b[1;32mIn[1], line 1\u001b[1;36m\u001b[0m\n\u001b[1;33m    <start point>\u001b[0m\n\u001b[1;37m    ^\u001b[0m\n\u001b[1;31mSyntaxError\u001b[0m\u001b[1;31m:\u001b[0m invalid syntax\n"
     ]
    }
   ],
   "source": [
    "<start point>\n",
    "while <how to stop>:\n",
    "    codeline1\n",
    "    codeline2\n",
    "    <increament or decreament>"
   ]
  },
  {
   "cell_type": "code",
   "execution_count": null,
   "id": "f51325e7-48df-43f5-bb7e-3458a23c9607",
   "metadata": {},
   "outputs": [],
   "source": [
    "i=1\n",
    "while i<=10:\n",
    "    print(i)\n",
    "    i=i+1"
   ]
  },
  {
   "cell_type": "code",
   "execution_count": null,
   "id": "c934d7b6-9695-46c0-a644-dfccfd6d4b71",
   "metadata": {},
   "outputs": [],
   "source": [
    "i=1\n",
    "while i<2:\n",
    "    print(i,end=' ')\n",
    "    i=i+1\n",
    "#step-1:i=1 while 1<2 true print(!) i=1+1=2\n",
    "#step-2: i=2 while 2<2 false"
   ]
  },
  {
   "cell_type": "code",
   "execution_count": null,
   "id": "ac3020ee-1190-4964-9a3b-a39c149486fd",
   "metadata": {},
   "outputs": [],
   "source": [
    "i=1\n",
    "while i<11:\n",
    "    print(i,end=' ')\n",
    "    i=i-1\n",
    "    if i==-10:\n",
    "        break\n",
    "    "
   ]
  },
  {
   "cell_type": "code",
   "execution_count": null,
   "id": "084a9316-d64a-407a-aa89-dcb4e270ee33",
   "metadata": {},
   "outputs": [],
   "source": [
    "i=0\n",
    "while i<2:\n",
    "    i=i+1"
   ]
  },
  {
   "cell_type": "code",
   "execution_count": null,
   "id": "5a28da46-d83d-4c3d-aaef-bd1ff3d9c6a2",
   "metadata": {},
   "outputs": [],
   "source": [
    "**True**\n",
    "\n",
    "- if you dont know about valid condition to enter inside while loop\n",
    "\n",
    "- then use **Ture**\n",
    "\n",
    "- True will give entry pass irrespective of the condition\n",
    "\n",
    "- but if you want to come out we need  apply if condtion and break inside the while loop\n",
    "\n",
    "- "
   ]
  },
  {
   "cell_type": "code",
   "execution_count": null,
   "id": "85539e88-e7d6-4972-a4cf-a157c440aab1",
   "metadata": {},
   "outputs": [],
   "source": [
    "20 to 1\n",
    "-20 to 0"
   ]
  },
  {
   "cell_type": "code",
   "execution_count": null,
   "id": "551a2be8-c7bf-4411-84ff-d7f0dd624638",
   "metadata": {},
   "outputs": [],
   "source": [
    "i=20\n",
    "while i>0:\n",
    "    print(i,end=' ')\n",
    "    i=i-1\n",
    "   "
   ]
  },
  {
   "cell_type": "code",
   "execution_count": null,
   "id": "5e88d758-2263-4ef4-89ec-4923674bf4b2",
   "metadata": {},
   "outputs": [],
   "source": [
    "i=-20\n",
    "while i>1:\n",
    "    print(i,end=' ')\n",
    "    i=i+1\n",
    "    "
   ]
  },
  {
   "cell_type": "code",
   "execution_count": null,
   "id": "041a921c-f52c-467e-8632-9a9459766882",
   "metadata": {},
   "outputs": [],
   "source": [
    "i=1\n",
    "while i<11:\n",
    "    print(i,end=' ')\n",
    "    i=i-1\n",
    "    if i==-10:\n",
    "        break\n",
    "    "
   ]
  },
  {
   "cell_type": "code",
   "execution_count": null,
   "id": "78934545-2931-4d93-99aa-c3ca22c0fd9e",
   "metadata": {},
   "outputs": [],
   "source": [
    "i=20\n",
    "while True:\n",
    "    print(i,end=' ')\n",
    "    i=i-1\n",
    "    if i==0:\n",
    "        break\n",
    "        \n",
    "\n",
    "\n",
    "   "
   ]
  },
  {
   "cell_type": "code",
   "execution_count": null,
   "id": "42d34523-9959-49a1-a5e7-a8d30d48a0eb",
   "metadata": {},
   "outputs": [],
   "source": [
    "i=-20\n",
    "while True:\n",
    "    print(i,end=' ')\n",
    "    i=i+1\n",
    "    if i==1:\n",
    "        break"
   ]
  },
  {
   "cell_type": "code",
   "execution_count": null,
   "id": "047b25b5-eef2-42ec-92cc-5a1b76817c4a",
   "metadata": {},
   "outputs": [],
   "source": [
    "i=-20\n",
    "while True:\n",
    "    print(i,end=' ')\n",
    "    i=i+1\n",
    "\n",
    "i=-20\n",
    "while i<1:\n",
    "    print(i,end=' ')"
   ]
  },
  {
   "cell_type": "code",
   "execution_count": null,
   "id": "a95ef083-7aae-4aac-9006-c653029a31af",
   "metadata": {},
   "outputs": [],
   "source": [
    "#all for loop to while loop##\n"
   ]
  },
  {
   "cell_type": "code",
   "execution_count": null,
   "id": "e2725b0e-266f-43cd-ad03-9380a4ea0219",
   "metadata": {},
   "outputs": [],
   "source": [
    "import random\n",
    "i=0\n",
    "while i<3:\n",
    "    num=random.randint(1,100)\n",
    "    if num%2==0:\n",
    "        print(f'{num} is even')\n",
    "    else:\n",
    "         print(f'{num} is odd')\n",
    "    i=i+1"
   ]
  },
  {
   "cell_type": "code",
   "execution_count": 2,
   "id": "b86ed769-52ed-485d-98d2-22e7d469e02f",
   "metadata": {},
   "outputs": [],
   "source": [
    "#wap ask the user print the number is even or odd b/w 10 and 20\n",
    "i=10\n",
    "while i>20:\n",
    "    if i%2==0:\n",
    "        print(f\"{i} is even\")\n",
    "    else:\n",
    "        print(f\"{i} is odd\")\n",
    "    i=i+1\n",
    " "
   ]
  },
  {
   "cell_type": "code",
   "execution_count": 3,
   "id": "084e10dc-e155-4a7a-aa6a-9f0f4d176873",
   "metadata": {},
   "outputs": [
    {
     "name": "stdin",
     "output_type": "stream",
     "text": [
      "enter the number is : 3\n"
     ]
    },
    {
     "name": "stdout",
     "output_type": "stream",
     "text": [
      "the square of the 3 is :9\n"
     ]
    },
    {
     "name": "stdin",
     "output_type": "stream",
     "text": [
      "enter the number is : 4\n"
     ]
    },
    {
     "name": "stdout",
     "output_type": "stream",
     "text": [
      "the square of the 4 is :16\n"
     ]
    },
    {
     "name": "stdin",
     "output_type": "stream",
     "text": [
      "enter the number is : 2\n"
     ]
    },
    {
     "name": "stdout",
     "output_type": "stream",
     "text": [
      "the square of the 2 is :4\n"
     ]
    }
   ],
   "source": [
    "# 4q) wap ask the user enter number three times find the square of \n",
    "#the number.\n",
    "i=0\n",
    "while i<3:\n",
    "    num=eval(input(\"enter the number is :\"))\n",
    "    square=num*num\n",
    "    print(f\"the square of the {num} is :{square}\")\n",
    "    i=i+1\n"
   ]
  },
  {
   "cell_type": "code",
   "execution_count": 5,
   "id": "8ea7c43a-5ff9-4c09-aa01-a5954fa51193",
   "metadata": {},
   "outputs": [
    {
     "name": "stdin",
     "output_type": "stream",
     "text": [
      "enter whicu number do you want to see  15\n"
     ]
    },
    {
     "name": "stdout",
     "output_type": "stream",
     "text": [
      "1*15=15\n",
      "2*15=30\n",
      "3*15=45\n",
      "4*15=60\n",
      "5*15=75\n",
      "6*15=90\n",
      "7*15=105\n",
      "8*15=120\n",
      "9*15=135\n",
      "10*15=150\n"
     ]
    }
   ],
   "source": [
    "#5q)print the 14 th table\n",
    "#ans:14*1=14\n",
    "#   14*2=28\n",
    "#\n",
    "#\n",
    "#\n",
    "#14*10=140\n",
    "i=1\n",
    "num=eval(input(\"enter whicu number do you want to see \"))\n",
    "while i<11:\n",
    "    val=i*num\n",
    "    print(f\"{i}*{num}={val}\")\n",
    "    i=i+1"
   ]
  },
  {
   "cell_type": "code",
   "execution_count": 8,
   "id": "882f9ecc-1fcf-4b6d-9555-0e8557accdeb",
   "metadata": {},
   "outputs": [
    {
     "name": "stdin",
     "output_type": "stream",
     "text": [
      "enter the  which number do you want to see  75\n"
     ]
    }
   ],
   "source": [
    "#6q)find the factors of 75\n",
    "#step-1: iterate the loop =which numbers factor you want\n",
    "#step-2:apply the if condition\n",
    "#   cond=divide the number with each i\n",
    "i=1\n",
    "num=eval(input(\"enter the  which number do you want to see \"))\n",
    "while i<76:\n",
    "    if num%2==0:\n",
    "        print(f\"the {i} is divisor of {num} \") \n",
    "    i=i+1\n"
   ]
  },
  {
   "cell_type": "code",
   "execution_count": null,
   "id": "7049d9c1-615b-4ecb-9fc0-c54de5f4a127",
   "metadata": {},
   "outputs": [],
   "source": [
    "#6q)find the factors of 75\n",
    "#step-1: iterate the loop =which numbers factor you want\n",
    "#step-2:apply the if condition\n",
    "#   cond=divide the number with each i"
   ]
  },
  {
   "cell_type": "code",
   "execution_count": 9,
   "id": "3823cced-090e-41c0-a97a-a8f7ed792982",
   "metadata": {},
   "outputs": [
    {
     "name": "stdout",
     "output_type": "stream",
     "text": [
      "0+1=1\n",
      "1+2=3\n",
      "3+3=6\n",
      "6+4=10\n",
      "10+5=15\n",
      "15+6=21\n",
      "21+7=28\n",
      "28+8=36\n",
      "36+9=45\n",
      "45+10=55\n"
     ]
    }
   ],
   "source": [
    "#7q)write the sum of first 10 natural numbers# n(n+1)/2\n",
    "i=1\n",
    "summ=0\n",
    "while i<11:\n",
    "    summ=summ+i\n",
    "    print(f\"{summ-i}+{i}={summ}\")\n",
    "    i=i+1"
   ]
  },
  {
   "cell_type": "code",
   "execution_count": 10,
   "id": "52035577-361d-45a6-ba6f-00d8090d97e4",
   "metadata": {},
   "outputs": [
    {
     "name": "stdin",
     "output_type": "stream",
     "text": [
      "enter the number : 9\n"
     ]
    }
   ],
   "source": [
    "#8q)average of 1 to 10 numbers\n",
    "#avg=summation of all the numbers/total nmber\n",
    "#wap to find the average of 'n' numbers in python\n",
    "i=1\n",
    "summ=0\n",
    "n=eval(input('enter the number :'))\n",
    "while i>11:\n",
    "    summ=summ+i\n",
    "    print(summ/n)\n",
    "    i=i+1\n",
    "             "
   ]
  },
  {
   "cell_type": "code",
   "execution_count": 13,
   "id": "f232abe7-8047-4f9d-8eae-d3258476c071",
   "metadata": {},
   "outputs": [
    {
     "name": "stdin",
     "output_type": "stream",
     "text": [
      "enter the number : 75\n"
     ]
    }
   ],
   "source": [
    "#9q)find the number of divisors of 75\n",
    "#ans:1,3,5,15,25,75\n",
    "#number = 6\n",
    "count=0\n",
    "num=eval(input(\"enter the number :\"))\n",
    "for i in range(1,n+1):\n",
    "    if num%2==0:\n",
    "        print(f\"the {n} is the divisor of {count}\")\n",
    "    count=count+1"
   ]
  },
  {
   "cell_type": "code",
   "execution_count": 14,
   "id": "de185b7d-ca31-41c9-9501-78d106954c71",
   "metadata": {},
   "outputs": [
    {
     "name": "stdout",
     "output_type": "stream",
     "text": [
      "5\n"
     ]
    },
    {
     "name": "stdin",
     "output_type": "stream",
     "text": [
      "enter the number2 : 3\n"
     ]
    },
    {
     "name": "stdout",
     "output_type": "stream",
     "text": [
      "fail\n",
      "5\n"
     ]
    },
    {
     "name": "stdin",
     "output_type": "stream",
     "text": [
      "enter the number2 : 4\n"
     ]
    },
    {
     "name": "stdout",
     "output_type": "stream",
     "text": [
      "fail\n",
      "5\n"
     ]
    },
    {
     "name": "stdin",
     "output_type": "stream",
     "text": [
      "enter the number2 : 5\n"
     ]
    },
    {
     "name": "stdout",
     "output_type": "stream",
     "text": [
      "won\n"
     ]
    }
   ],
   "source": [
    "#10q)get a random number b/w 1-10:nm1\n",
    "#ask the user enter a number :num2\n",
    "#if num1==num2 then print won\n",
    "#else print fail\n",
    "#give 3 chances\n",
    "import random\n",
    "i=0\n",
    "while i<3:\n",
    "    num1=random.randint(1,10)\n",
    "    print(num1)\n",
    "    num2=eval(input(\"enter the number2 :\"))\n",
    "    if num1==num2:\n",
    "        print(\"won\")\n",
    "    else:\n",
    "        print(\"fail\")\n",
    "    i=i+1"
   ]
  },
  {
   "cell_type": "code",
   "execution_count": 17,
   "id": "49607662-0b8f-47d4-b2d4-55909df7c44f",
   "metadata": {},
   "outputs": [
    {
     "name": "stdout",
     "output_type": "stream",
     "text": [
      "the no of divisiors of even numbers are :0\n",
      "the no of divisiors of odd numbers are :1\n",
      "the no of divisiors of even numbers are :0\n",
      "the no of divisiors of odd numbers are :2\n"
     ]
    },
    {
     "ename": "NameError",
     "evalue": "name 'even_cont' is not defined",
     "output_type": "error",
     "traceback": [
      "\u001b[1;31m---------------------------------------------------------------------------\u001b[0m",
      "\u001b[1;31mNameError\u001b[0m                                 Traceback (most recent call last)",
      "Cell \u001b[1;32mIn[17], line 11\u001b[0m\n\u001b[0;32m      9\u001b[0m num\u001b[38;5;241m=\u001b[39mrandom\u001b[38;5;241m.\u001b[39mrandint(\u001b[38;5;241m1\u001b[39m,\u001b[38;5;241m100\u001b[39m)\n\u001b[0;32m     10\u001b[0m \u001b[38;5;28;01mif\u001b[39;00m num\u001b[38;5;241m%\u001b[39m\u001b[38;5;241m2\u001b[39m\u001b[38;5;241m==\u001b[39m\u001b[38;5;241m0\u001b[39m:\n\u001b[1;32m---> 11\u001b[0m     even_count\u001b[38;5;241m=\u001b[39meven_cont\u001b[38;5;241m+\u001b[39m\u001b[38;5;241m1\u001b[39m\n\u001b[0;32m     12\u001b[0m \u001b[38;5;28;01melse\u001b[39;00m:\n\u001b[0;32m     13\u001b[0m     odd_count\u001b[38;5;241m=\u001b[39modd_count\u001b[38;5;241m+\u001b[39m\u001b[38;5;241m1\u001b[39m\n",
      "\u001b[1;31mNameError\u001b[0m: name 'even_cont' is not defined"
     ]
    }
   ],
   "source": [
    "#wap ask the user get 5 random numbers \n",
    "#get it is an even number or odd number\n",
    "# also count how many even numbers are there\n",
    "#and count how many odd nmbers are there\n",
    "i=0\n",
    "even_count=0\n",
    "odd_count=0\n",
    "while i<5:\n",
    "    num=random.randint(1,100)\n",
    "    if num%2==0:\n",
    "        even_count=even_cont+1\n",
    "    else:\n",
    "        odd_count=odd_count+1\n",
    "    print(f\"the no of divisiors of even numbers are :{even_count}\")\n",
    "    print(f\"the no of divisiors of odd numbers are :{odd_count}\")\n",
    "    i=i+1\n"
   ]
  },
  {
   "cell_type": "code",
   "execution_count": null,
   "id": "adda5a77-da2b-4386-b18d-3ec138d3cdcb",
   "metadata": {},
   "outputs": [],
   "source": []
  }
 ],
 "metadata": {
  "kernelspec": {
   "display_name": "Python 3 (ipykernel)",
   "language": "python",
   "name": "python3"
  },
  "language_info": {
   "codemirror_mode": {
    "name": "ipython",
    "version": 3
   },
   "file_extension": ".py",
   "mimetype": "text/x-python",
   "name": "python",
   "nbconvert_exporter": "python",
   "pygments_lexer": "ipython3",
   "version": "3.11.7"
  }
 },
 "nbformat": 4,
 "nbformat_minor": 5
}
